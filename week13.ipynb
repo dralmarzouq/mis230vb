{
 "cells": [
  {
   "cell_type": "markdown",
   "metadata": {
    "collapsed": true
   },
   "source": [
    "# Custom Data Structures\n",
    "- When using lists or dictionaries, we always stored single values (i.e. strings or integers)\n",
    "- What if we want to store a complete record:\n",
    "    - e.g. student record containing id, name, gpa, major ..etc\n",
    "- We use classes to create custom data structures"
   ]
  },
  {
   "cell_type": "markdown",
   "metadata": {
    "collapsed": true
   },
   "source": [
    "# Defining Classes\n",
    "Classes are an Object-Oriented feature of VB, you add a new class to the project and define it as:\n",
    "```vb.net\n",
    "Public Class StudentRecord\n",
    "    Public ID As Integer\n",
    "    Public Name As String\n",
    "    Public GPA As Double\n",
    "    Public Major As String\n",
    "End Class\n",
    "\n",
    "```"
   ]
  },
  {
   "cell_type": "markdown",
   "metadata": {},
   "source": [
    "# Using Classes\n",
    "After the class is defined, it can be used in your program exactly like you would use any other data type:\n",
    "\n",
    "```vb.net\n",
    "'define a variable to hold the record\n",
    "Dim myRecord As New StudentRecord()\n",
    "\n",
    "'store the values, the record is known as an object\n",
    "myRecord.ID = 20121234\n",
    "myRecord.Name = \"Ahmed Ali\"\n",
    "myRecord.Major = \"MIS\"\n",
    "myRecord.GPA = 3.25\n",
    "\n",
    "```"
   ]
  },
  {
   "cell_type": "markdown",
   "metadata": {},
   "source": [
    "# Using The Data in the Object\n",
    "\n",
    "You access each value individually if you want to use it\n",
    "```vb.net\n",
    "MsgBox(\"Student Name is \" & myRecord.Name \" and student ID is \" & myRecord.ID )\n",
    "```"
   ]
  },
  {
   "cell_type": "markdown",
   "metadata": {},
   "source": [
    "# Storing Classes in Lists\n",
    "\n",
    "```vb.net\n",
    "Dim studentRecords as new List(of StudentRecord)\n",
    "\n",
    "' create a student record object as explained in previous slide\n",
    "' add the student record object to the list\n",
    "\n",
    "studentRecords.add(myRecord)\n",
    "\n",
    "```"
   ]
  },
  {
   "cell_type": "markdown",
   "metadata": {},
   "source": [
    "# Using Classes in Lists\n",
    "\n",
    "```vb.net\n",
    "' You use the lists of records as you have learend before\n",
    "' But it might be easier to fetch a record into a variable\n",
    "\n",
    "' fetch the first record from the list\n",
    "Dim aRecord = studentRecords(0)\n",
    "\n",
    "' now you can use the record as you have leared\n",
    "\n",
    "MsgBox(\"Student Name is \" & aRecord.Name \" and student ID is \" & aRecord.ID )\n",
    "```"
   ]
  },
  {
   "cell_type": "markdown",
   "metadata": {},
   "source": [
    "# Storing Classes in Dictionaries\n",
    "\n",
    "```vb.net\n",
    "' we will use the student id as they key, so the key is an integer\n",
    "Dim studentRecords as new Dictionary(of Integer, StudentRecord)\n",
    "\n",
    "' create a student record object as explained in previous slide\n",
    "' add the student record object to the dictionary with student id as key\n",
    "\n",
    "studentRecords.add(myRecord.ID, myRecord)\n",
    "\n",
    "```"
   ]
  },
  {
   "cell_type": "markdown",
   "metadata": {},
   "source": [
    "# Using Classes in Dictionaries\n",
    "\n",
    "```vb.net\n",
    "' You use the dictionary of records as you have learend before\n",
    "' But it might be easier to fetch a record into a variable\n",
    "\n",
    "' fetch the student with id 20121234 record from the dictionary\n",
    "Dim aRecord = studentRecords(20121234)\n",
    "\n",
    "' now you can use the record as you have leared\n",
    "\n",
    "MsgBox(\"Student Name is \" & aRecord.Name \" and student ID is \" & aRecord.ID )\n",
    "```"
   ]
  },
  {
   "cell_type": "markdown",
   "metadata": {},
   "source": [
    "# Challenge\n",
    "- Modify the last version of the shopping list to use classes\n",
    "- Identify which groups of information should be stored within a single instance of a class\n",
    "- You should be able to get rid of one of the collections you are using\n"
   ]
  },
  {
   "cell_type": "markdown",
   "metadata": {},
   "source": [
    "# Another Challenge\n",
    "Create an HR application where employee records are stored:\n",
    "- Record must contain: Employee ID, First name, Last Name, Date of employment, yearly sales\n",
    "- Display two lists the first contains the employee ID, the second contains a combination of first name and last name\n",
    "- When an employee is selected, his record is displayed\n",
    "- User can delete/update/create records\n",
    "- Provide statistics for employee yearly sales which include: Total sales, average sales, min (display also name of min salesman), and max (display name of max salesman)"
   ]
  }
 ],
 "metadata": {
  "kernelspec": {
   "display_name": "Python 3",
   "language": "python",
   "name": "python3"
  },
  "language_info": {
   "codemirror_mode": {
    "name": "ipython",
    "version": 3
   },
   "file_extension": ".py",
   "mimetype": "text/x-python",
   "name": "python",
   "nbconvert_exporter": "python",
   "pygments_lexer": "ipython3",
   "version": "3.7.0"
  }
 },
 "nbformat": 4,
 "nbformat_minor": 2
}
