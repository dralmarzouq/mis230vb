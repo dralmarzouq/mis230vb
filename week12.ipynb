{
 "cells": [
  {
   "cell_type": "markdown",
   "metadata": {
    "collapsed": true,
    "slideshow": {
     "slide_type": "slide"
    }
   },
   "source": [
    "# File I/O\n",
    "\n",
    "- File input is reading the content of a file into memory (a variable)\n",
    "- File output is writing the content of a variable or variables into a file\n",
    "- File content can be text or binary\n",
    "- We will be working only with text files"
   ]
  },
  {
   "cell_type": "markdown",
   "metadata": {
    "collapsed": true,
    "slideshow": {
     "slide_type": "slide"
    }
   },
   "source": [
    "# Reading a Files\n",
    "- Download [data1.txt](http://qmisr.github.io/mis230vb/data1.txt) and place it on the desktop\n",
    "- Right click on the file then select properties\n",
    "- Copy the file path\n",
    "\n",
    "**Note:** File paths are different in different operating systems (e.g. mac)"
   ]
  },
  {
   "cell_type": "markdown",
   "metadata": {
    "slideshow": {
     "slide_type": "slide"
    }
   },
   "source": [
    "# Reading a Files\n",
    "\n",
    "```vb.net\n",
    "Dim data = My.Computer.FileSystem.ReadAllText(\n",
    "                    \"c:\\path\\to\\file\\data1.txt\")\n",
    "```\n",
    "\n",
    "- This command will store all the data in the file in variable data\n",
    "- **data** will be a string even though we did not mention that\n",
    "- Try to display content of data\n",
    "- **Important:** Remember to replace path\\\\to\\\\file with the correct path on your computer"
   ]
  },
  {
   "cell_type": "markdown",
   "metadata": {
    "slideshow": {
     "slide_type": "slide"
    }
   },
   "source": [
    "# Working With Lines\n",
    "- Sometimes it is better to work with each line separatly\n",
    "    - For example: We might store each record in a separate line\n",
    "    \n",
    "```vb.net\n",
    "Dim txt = data.Split(vbNewLine) 'split the lines into a list\n",
    "For Each x In txt\n",
    "    'Work with each line\n",
    "    MsgBox(x)\n",
    "    'you can even split line and work with values\n",
    "Next\n",
    "\n",
    "```\n",
    "**Note:** txt is now a List of Strings"
   ]
  },
  {
   "cell_type": "markdown",
   "metadata": {
    "slideshow": {
     "slide_type": "slide"
    }
   },
   "source": [
    "# Challenge\n",
    "Try to display the list of strings in a ListBox\n",
    "\n",
    "Look at the data, can you write a program to read the information of each student (name and grade)\n",
    "\n",
    "Will it be easy?\n",
    "\n",
    "What would you change about the organization of the data to make writing a program to read it easier?"
   ]
  },
  {
   "cell_type": "markdown",
   "metadata": {
    "slideshow": {
     "slide_type": "slide"
    }
   },
   "source": [
    "# Better Organized Data\n",
    "\n",
    "- Look at [names.txt](http://qmisr.github.io/mis230vb/names.txt) and [grades.txt](http://qmisr.github.io/mis230vb/grades.txt)\n",
    "- Is it easier to write a program to read the data for each student?\n",
    "- Add two lists to display the data\n",
    "- Which grade belongs to which student?\n",
    "    - **Important:** Data for the same student must be on the same line"
   ]
  },
  {
   "cell_type": "markdown",
   "metadata": {
    "slideshow": {
     "slide_type": "slide"
    }
   },
   "source": [
    "# Standard Ways of Organizing Textual Data\n",
    "- This is called **file format**\n",
    "- Most common file formats include XML, JSON, a CSV\n",
    "    - List is probably endless"
   ]
  },
  {
   "cell_type": "markdown",
   "metadata": {
    "slideshow": {
     "slide_type": "slide"
    }
   },
   "source": [
    "# XML Example\n",
    "```xml\n",
    "<student>\n",
    "    <name>mohammed</name>\n",
    "    <grade>90</grade>\n",
    "    <absence>1</absence>\n",
    "</student>\n",
    "<student>\n",
    "    <name>Ahmed</name>\n",
    "    <grade>80</grade>\n",
    "    <absence>2</absence>\n",
    "</student>\n",
    "\n",
    "```"
   ]
  },
  {
   "cell_type": "markdown",
   "metadata": {
    "slideshow": {
     "slide_type": "slide"
    }
   },
   "source": [
    "# JSON Example\n",
    "```json\n",
    "[\n",
    "  {\n",
    "\t\t\"name\": \"Mohammed\",\n",
    "\t\t\"grade\": 90,\n",
    "\t\t\"absence\": 1\n",
    "\t},\n",
    "\t{\n",
    "\t\t\"name\": \"Ali\",\n",
    "\t\t\"grade\": 85,\n",
    "\t\t\"absence\": 2\n",
    "\t}\n",
    "]\n",
    "```"
   ]
  },
  {
   "cell_type": "markdown",
   "metadata": {
    "slideshow": {
     "slide_type": "slide"
    }
   },
   "source": [
    "# CSV Example\n",
    "```csv\n",
    "name,grade,absence\n",
    "Mohammad,95,1\n",
    "Ahmed,90,0\n",
    "Khaled,85,3\n",
    "Sara,80,2\n",
    "```"
   ]
  },
  {
   "cell_type": "markdown",
   "metadata": {
    "slideshow": {
     "slide_type": "slide"
    }
   },
   "source": [
    "# Reading CSV Files\n",
    "- Download the file [data.csv](http://qmisr.github.io/mis230vb/data.csv)\n",
    "- Read it into variable **grades**\n",
    "- Display each line in a separate MsgBox\n",
    "- Instead of displaying MsgBox, we process the data line by line and extract the information\n",
    "    - This is called **parsing** the text file"
   ]
  },
  {
   "cell_type": "markdown",
   "metadata": {
    "slideshow": {
     "slide_type": "slide"
    }
   },
   "source": [
    "# Parsing a CSV\n",
    "```vb.net\n",
    "Dim fileName as String = \"c:\\path\\to\\data.csv\"\n",
    "Dim data = My.Computer.FileSystem.ReadAllText(fileName)\n",
    "Dim txt = data.Split(vbNewLine) ' split into list of string\n",
    "For Each record In txt\n",
    "        'split each line into its values\n",
    "        Dim values = Record.split(\",\")\n",
    "         For Each v in values\n",
    "            MsgBox(v)' Here we examine the value \n",
    "         Next\n",
    " Next\n",
    "\n",
    "```"
   ]
  },
  {
   "cell_type": "markdown",
   "metadata": {
    "slideshow": {
     "slide_type": "slide"
    }
   },
   "source": [
    "# Challenge\n",
    "Modify the previous program for reading data.csv to perform the following\n",
    "- Display 3 lists (use ListBoxes here), for names, grades, and absences\n",
    "- Add button to load data.csv into these lists\n",
    "- Add controls to allow the user to add another student record\n",
    "    - Remember, student must have name, grade, and absence\n",
    "    - Don't forget input validation\n",
    "- Add a button to same the list back into data.csv with any new data"
   ]
  },
  {
   "cell_type": "markdown",
   "metadata": {
    "slideshow": {
     "slide_type": "slide"
    }
   },
   "source": [
    "# Writing to A File\n",
    "```vb.net\n",
    "My.Computer.FileSystem.WriteAllText(filePath, data, False)\n",
    "```\n",
    "- **filePath** is the location of the file as a string (just like reading the file)\n",
    "- **data** is a String variable that contains all your data\n",
    "- **False** at the end means that you do not want to append to the file, but create a new one even if the data exists"
   ]
  },
  {
   "cell_type": "markdown",
   "metadata": {
    "slideshow": {
     "slide_type": "slide"
    }
   },
   "source": [
    "# Writing to A File\n",
    "\n",
    "Create a button to perform the following action:\n",
    "\n",
    "```vb.net\n",
    "Dim filePath As String = \"c:\\path\\to\\file\\myfile.txt\"\n",
    "Dim data = \"Hello Files!\"\n",
    "My.Computer.FileSystem.WriteAllText(filePath, data, False)\n",
    "```\n",
    "\n",
    "Modify the filePath so that the new file is created on the desktop.\n",
    "\n",
    "Examine the contents of the file, what do you see? \n",
    "\n",
    "Click the button multiple times then see what happens to the file.\n",
    "\n",
    "Replace False with True then click multiple times to see what happens to the file"
   ]
  },
  {
   "cell_type": "markdown",
   "metadata": {
    "slideshow": {
     "slide_type": "slide"
    }
   },
   "source": [
    "# How Do We Store CSV\n",
    "Think about what we are trying to do:\n",
    "- We want the data for each student in a line\n",
    "- The line will contain name, grade, then absence\n",
    "- Data is separated by a comma\n",
    "- Order of data is important\n",
    "- Store it to a String variable\n",
    "- Store the content of the variable in a file"
   ]
  },
  {
   "cell_type": "markdown",
   "metadata": {
    "slideshow": {
     "slide_type": "slide"
    }
   },
   "source": [
    "# Writing To CSV\n",
    "```vb.net\n",
    "Dim dataList as new List(Of String)\n",
    "\n",
    "' We need the index for all listboxes, use for loop not for each\n",
    "' Add all the records to a list of string\n",
    "For i = 0 to lstNames.Count() - 1\n",
    "    Dim record = lstNames.items(i) & \",\" & lstGrades.items(i) & \",\" lstAbsence.items(0)\n",
    "    csvData.add(record)\n",
    "Next\n",
    "\n",
    "' Combine each item in the list into a string and seperate with vbnewline\n",
    "Dim dataString As String = String.Join(vbNewLine, dataList)\n",
    "' Store the data\n",
    "My.Computer.FileSystem.WriteAllText(\"c:\\path\\to\\file\\mydata.csv\", dataString, False)\n",
    "```"
   ]
  },
  {
   "cell_type": "markdown",
   "metadata": {
    "slideshow": {
     "slide_type": "slide"
    }
   },
   "source": [
    "# File Selector\n",
    "- Use it as a way to let the user select the file path\n",
    "- No need to remember what the path is or look for it"
   ]
  },
  {
   "cell_type": "markdown",
   "metadata": {
    "slideshow": {
     "slide_type": "slide"
    }
   },
   "source": [
    "# File Selector\n",
    "```vb.net\n",
    "' very important, added at the very top before the class\n",
    "Imports Microsoft.Win32\n",
    "\n",
    "'Create Dialog instance\n",
    "Dim dlg As OpenFileDialog = New OpenFileDialog()\n",
    "\n",
    "' If you want to save to a file, add the following line:\n",
    "' dlg.CheckFileExists = False \n",
    "' It allows you to select non-existent file so you can save to it\n",
    "\n",
    "'Show the dialog\n",
    "If dlg.ShowDialog Then\n",
    "    'This stored the selected path by the user into fileName\n",
    "    Dim fileName as String = dlg.FileName\n",
    "    \n",
    "    'You have the path, now you can read the data\n",
    "    Dim data = My.Computer.FileSystem.ReadAllText(fileName)\n",
    "End If\n",
    "\n",
    "```"
   ]
  },
  {
   "cell_type": "markdown",
   "metadata": {
    "slideshow": {
     "slide_type": "slide"
    }
   },
   "source": [
    "# Challenge\n",
    "\n",
    "Modify the programs you built this week to use the file selector"
   ]
  },
  {
   "cell_type": "markdown",
   "metadata": {
    "slideshow": {
     "slide_type": "slide"
    }
   },
   "source": [
    "# Challenge\n",
    "- Create an application to allow the instructor to enter student grades only\n",
    "- Calculate the statistics (min, max, average) for the grades\n",
    "- Add the ability to store the data\n",
    "- Add the ability to read the data\n",
    "- Use file selector"
   ]
  }
 ],
 "metadata": {
  "celltoolbar": "Slideshow",
  "kernelspec": {
   "display_name": "Python 3",
   "language": "python",
   "name": "python3"
  },
  "language_info": {
   "codemirror_mode": {
    "name": "ipython",
    "version": 3
   },
   "file_extension": ".py",
   "mimetype": "text/x-python",
   "name": "python",
   "nbconvert_exporter": "python",
   "pygments_lexer": "ipython3",
   "version": "3.6.0"
  }
 },
 "nbformat": 4,
 "nbformat_minor": 2
}
