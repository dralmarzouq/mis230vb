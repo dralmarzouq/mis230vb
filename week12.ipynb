{
 "cells": [
  {
   "cell_type": "markdown",
   "metadata": {
    "collapsed": true,
    "slideshow": {
     "slide_type": "slide"
    }
   },
   "source": [
    "# Dictionaries\n",
    "\n",
    "- Stores a key **and** value pair\n",
    "    - You cannot store one without the other\n",
    "- Values are retreived by keys, e.g.:\n",
    "    - Student record can be fetched by student id\n",
    "    - Product price can be fetched by product name or id"
   ]
  },
  {
   "cell_type": "markdown",
   "metadata": {
    "collapsed": true,
    "slideshow": {
     "slide_type": "slide"
    }
   },
   "source": [
    "# Dictionaries Cont.\n",
    "\n",
    "- Values can be changed, but keys cannot\n",
    "- Keys can be number sequences like lists, e.g.: 1,2,3\n",
    "    - But if you delete an entry, the other entries will not be shifted\n"
   ]
  },
  {
   "cell_type": "markdown",
   "metadata": {
    "slideshow": {
     "slide_type": "slide"
    }
   },
   "source": [
    "# Creating dictionaries in VB\n",
    "\n",
    "```vb.net\n",
    "'Empty Dictionary\n",
    "Dim myDict As New Dictionary(Of String, Integer)\n",
    "\n",
    "'Adding/Replacing elements are the same\n",
    "myDict(\"Mustang\") = 7000\n",
    "myDict.item(\"F150\") = 5000\n",
    "myDict.Add(\"Focus\") = 3000\n",
    "myDict(\"Mustang\") = 9000 'Replace value, why?\n",
    "\n",
    "```"
   ]
  },
  {
   "cell_type": "markdown",
   "metadata": {
    "slideshow": {
     "slide_type": "slide"
    }
   },
   "source": [
    "# Dictionaries in VB\n",
    "\n",
    "```vb.net\n",
    "'Counting elements\n",
    "myDict.count\n",
    "\n",
    "'Accessing elements\n",
    "myDict.item(\"Mustang\") 'returns 9000\n",
    "myDict(\"Mustang\") ' also returns 9000\n",
    "```"
   ]
  },
  {
   "cell_type": "markdown",
   "metadata": {
    "slideshow": {
     "slide_type": "slide"
    }
   },
   "source": [
    "# Dictionaries in VB\n",
    "\n",
    "```vb.net\n",
    "'Checking for element (always by key)\n",
    "myDict.containsKey(\"mustang\")  'returns False\n",
    "myDict.containsKey(\"Mustang\")  'returns True\n",
    "\n",
    "'Delete element (always by key, associated value is removed)\n",
    "myDict.remove(\"Mustang\")\n",
    "```"
   ]
  },
  {
   "cell_type": "markdown",
   "metadata": {
    "slideshow": {
     "slide_type": "slide"
    }
   },
   "source": [
    "# Dictionaries and Lists\n",
    "- Don't forget to read the vb.net documentation and discover how you can use them\n",
    "- When you need to maintain order of records, use **lists**\n",
    "- When you do not need order, and you have information that identifies a record (e.g. student id), you can use **dictionaries**.\n",
    "- See http://www.dotnetperls.com for useful hints"
   ]
  },
  {
   "cell_type": "markdown",
   "metadata": {
    "slideshow": {
     "slide_type": "slide"
    }
   },
   "source": [
    "# Shopping List Exercise\n",
    "\n",
    "- Create a shopping list that you add items, their quantity, and unit price to the list\n",
    "- Only display the items in a list, the quantity and unit price should be stored in separate dictionaries in memmory\n",
    "    - Hint: use shopping item name as key\n",
    "- When you select an item, display the quantity and the unit price for that item in the same textboxes used to enter the data\n",
    "- User should be able to remove items from the list\n",
    "- Show the total price for the shopping list, total number of items, and average item price\n",
    "- Allow user to update the values for selected entries.\n",
    "- Allow user to sort the list\n"
   ]
  },
  {
   "cell_type": "markdown",
   "metadata": {
    "slideshow": {
     "slide_type": "slide"
    }
   },
   "source": [
    "# More advanced shopping list\n",
    "- Create an application with two different types of users:\n",
    "    - Sales manager\n",
    "    - Shopper\n",
    "- Sales manager can add items and unit prices\n",
    "- Sales manager can update/delete items from list of products\n",
    "- Shopper can select from available items to add to his/her shopping list\n",
    "- Shopper can select quantity of each item\n",
    "- Shopper can view items, the quntity, their unit prices, and the item total prices each as a list\n",
    "- Shopper can view total cost\n",
    "- Shopper can remove items from shopping list"
   ]
  },
  {
   "cell_type": "markdown",
   "metadata": {
    "slideshow": {
     "slide_type": "slide"
    }
   },
   "source": [
    "# Adding a new form to your project\n",
    "\n",
    "![](img/add_form.png)"
   ]
  },
  {
   "cell_type": "markdown",
   "metadata": {
    "slideshow": {
     "slide_type": "slide"
    }
   },
   "source": [
    "# Designing The Form\n",
    "\n",
    "Select the form and design it as you did with previous forms, Notice its name is **Form2**\n",
    "\n",
    "![](img/design_form.png)"
   ]
  },
  {
   "cell_type": "markdown",
   "metadata": {
    "slideshow": {
     "slide_type": "slide"
    }
   },
   "source": [
    "# To show Form2\n",
    "- Use the command ```Form2.Show()``` inside Form1\n",
    "    - Add it to a button subroutine \n",
    "    - To open Form2 from Form1\n",
    "- Remember, you can rename the forms, they don't have to be Form1 and Form2\n",
    "    - Right click on the form you want to rename in the solution explorer\n",
    "    \n",
    "   "
   ]
  },
  {
   "cell_type": "markdown",
   "metadata": {
    "slideshow": {
     "slide_type": "slide"
    }
   },
   "source": [
    "# To Hide Form2\n",
    "- Use the command ```Me.Show()``` inside Form2 itself\n",
    "    - Add it to a button subroutine    "
   ]
  }
 ],
 "metadata": {
  "celltoolbar": "Slideshow",
  "kernelspec": {
   "display_name": "Python 3",
   "language": "python",
   "name": "python3"
  },
  "language_info": {
   "codemirror_mode": {
    "name": "ipython",
    "version": 3
   },
   "file_extension": ".py",
   "mimetype": "text/x-python",
   "name": "python",
   "nbconvert_exporter": "python",
   "pygments_lexer": "ipython3",
   "version": "3.7.0"
  }
 },
 "nbformat": 4,
 "nbformat_minor": 2
}
