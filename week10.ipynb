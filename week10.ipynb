{
 "cells": [
  {
   "cell_type": "markdown",
   "metadata": {
    "slideshow": {
     "slide_type": "slide"
    }
   },
   "source": [
    "# Collections\n",
    "- Data structures that can be used to store groups of data.\n",
    "- Native data types usually contain single value (e.g., 1, 100, -20).\n",
    "- Collections can store multiple values in the same variable.\n"
   ]
  },
  {
   "cell_type": "markdown",
   "metadata": {
    "slideshow": {
     "slide_type": "slide"
    }
   },
   "source": [
    "# Collection Types\n",
    "- Depends on how data is organized\n",
    "- **Lists**, queues, and vectors: Data is ordered in sequence\n",
    "- **Dictionaries**, maps, and hashes: Every value is stored with a key\n",
    "- Sets: Data is unique"
   ]
  },
  {
   "cell_type": "markdown",
   "metadata": {
    "slideshow": {
     "slide_type": "slide"
    }
   },
   "source": [
    "# Lists\n",
    "- Sequence of data or objects.\n",
    "- Accessed with index.\n",
    "- Index starts from 0 up to number of elements - 1.\n"
   ]
  },
  {
   "cell_type": "markdown",
   "metadata": {
    "slideshow": {
     "slide_type": "slide"
    }
   },
   "source": [
    "# Declaring a List in VB\n",
    "```vb.net\n",
    "' these are empty lists\n",
    "Dim myList1 As New List(Of String)\n",
    "Dim myList2 As New List(Of Integer)\n",
    "```"
   ]
  },
  {
   "cell_type": "markdown",
   "metadata": {
    "slideshow": {
     "slide_type": "slide"
    }
   },
   "source": [
    "# Declaring and Initializing a List in VB\n",
    "```vb.net\n",
    "' the list contains data\n",
    "Dim nameList As New List(Of String) From {\"mohammed\", \"ali\", \"sara\"}\n",
    "```"
   ]
  },
  {
   "cell_type": "markdown",
   "metadata": {
    "slideshow": {
     "slide_type": "slide"
    }
   },
   "source": [
    "# To Access Item in List\n",
    "```vb.net\n",
    "nameList.item(0) 'for mohammad\n",
    "nameList(0) 'also for mohammed\n",
    "\n",
    "'To display mohammad in MsgBox\n",
    "MsgBox(nameList(0))\n",
    "```\n",
    "### Use the item of a list as if you are using any variable, everything you know applies"
   ]
  },
  {
   "cell_type": "markdown",
   "metadata": {
    "slideshow": {
     "slide_type": "slide"
    }
   },
   "source": [
    "# Adding Items to a List\n",
    "```vb.net\n",
    "Dim myList1 As New List(Of String)\n",
    "Dim myList2 As New List(Of Integer)\n",
    "\n",
    "myList1.add(\"Kuwait\")\n",
    "myList1.add(\"KSA\")\n",
    "myList1.insert(1, \"USA\")\n",
    "\n",
    "myList2.add(\"KSA\")  'Error why?\n",
    "```"
   ]
  },
  {
   "cell_type": "markdown",
   "metadata": {
    "slideshow": {
     "slide_type": "slide"
    }
   },
   "source": [
    "# Useful List Operation/Functions\n",
    "```vb.net\n",
    "myList1.Count ' Count number of elements in list\n",
    "myList1(0) = \"KWT\" 'replace item 0\n",
    "myList1.item(0) = \"KWT\" 'replace item 0\n",
    "myList1.remove(\"USA\") ' Remove the item from the list\n",
    "myList1.removeAt(1) ' remove item at index 1\n",
    "\n",
    "```"
   ]
  },
  {
   "cell_type": "markdown",
   "metadata": {
    "slideshow": {
     "slide_type": "slide"
    }
   },
   "source": [
    "# Challenge\n",
    "Create application that:\n",
    "- Allows the user to input words, the words are stored in a List (collection, not a ListBox)\n",
    "- Add button that allows user to display 1st item, another for 2nd item, and another for last item\n",
    "- Add button to show number of items in the list\n",
    "- Add button to remove first item in list, and another to remove last item in list\n",
    "- Add button to display the list"
   ]
  },
  {
   "cell_type": "markdown",
   "metadata": {
    "slideshow": {
     "slide_type": "slide"
    }
   },
   "source": [
    "# About the Challenge\n",
    "- Where are the names stored? why are they not on screen?\n",
    "- How many variables hold the stored names?\n",
    "- Why is the first element stored in location 0?\n",
    "- What happens if you remove from a location that contains no item?\n",
    "- Why can't you print the list?"
   ]
  },
  {
   "cell_type": "markdown",
   "metadata": {
    "slideshow": {
     "slide_type": "slide"
    }
   },
   "source": [
    "# ListBox\n",
    "<img width=\"30%\" style=\"float: right;\" src=\"img/listbox.png\">\n",
    "<ul style=\"display: block\">\n",
    "<li>Used to list a group of items\n",
    "</li>\n",
    "<li>To access items programmatically you reference the Items property and use it as a list </li>\n",
    "<li>Can be modified to allow user to select single or multiple items </li>\n",
    "</ul>"
   ]
  },
  {
   "cell_type": "markdown",
   "metadata": {
    "slideshow": {
     "slide_type": "slide"
    }
   },
   "source": [
    "# Important ListBox Properties\n",
    "- Items\n",
    "    - Collection containing all the values shown in the list box\n",
    "- SelectedIndex, \n",
    "    - The currently selected **index**\n",
    "- SelectedValue, SelectedItem\n",
    "    - The currently selected **value**"
   ]
  },
  {
   "cell_type": "markdown",
   "metadata": {
    "slideshow": {
     "slide_type": "slide"
    }
   },
   "source": [
    "# Main ListBox Event\n",
    "- Double clicking on the list box will allow you to modify **SelectedIndexChanged** event\n",
    "- Action is performed whenever the user selects an item\n",
    "- Becareful sometime the selected index is -1 when there is no item selected"
   ]
  },
  {
   "cell_type": "markdown",
   "metadata": {
    "slideshow": {
     "slide_type": "slide"
    }
   },
   "source": [
    "# Improved Challenge\n",
    "- Modify the previous list challenge to use ListBox instead of List\n",
    "- Add a button that displays which index is selected, and which value is selected\n",
    "- Add button to remove the selected item"
   ]
  },
  {
   "cell_type": "markdown",
   "metadata": {
    "slideshow": {
     "slide_type": "slide"
    }
   },
   "source": [
    "# When to Use Lists or ListBoxes?\n",
    "- When you have lots of data that you want to perform operations on\n",
    "- Store the data in a list to ensure you don't lost it\n",
    "- Use ListBox for display, not operations (like sorting and filtering)\n",
    "- Many times we use them together"
   ]
  },
  {
   "cell_type": "markdown",
   "metadata": {
    "slideshow": {
     "slide_type": "slide"
    }
   },
   "source": [
    "# New Control Challenge\n",
    "- Can you find another control that contains a list\n",
    "    - What is it?\n",
    "    - How is it different from the ListBox?\n",
    "- Modify the last improved challenge to use the new control"
   ]
  }
 ],
 "metadata": {
  "celltoolbar": "Slideshow",
  "kernelspec": {
   "display_name": "Python 3",
   "language": "python",
   "name": "python3"
  },
  "language_info": {
   "codemirror_mode": {
    "name": "ipython",
    "version": 3
   },
   "file_extension": ".py",
   "mimetype": "text/x-python",
   "name": "python",
   "nbconvert_exporter": "python",
   "pygments_lexer": "ipython3",
   "version": "3.6.0"
  }
 },
 "nbformat": 4,
 "nbformat_minor": 2
}
