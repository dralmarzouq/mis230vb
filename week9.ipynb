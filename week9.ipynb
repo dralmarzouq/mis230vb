{
 "cells": [
  {
   "cell_type": "markdown",
   "metadata": {
    "slideshow": {
     "slide_type": "slide"
    }
   },
   "source": [
    "# String Methods\n",
    "- Strings are the most used data types in most applications\n",
    "- User input is treated as strings then converted to other data types to process\n",
    "- Strings will have special functions to enable quick processing of strings\n",
    "    "
   ]
  },
  {
   "cell_type": "markdown",
   "metadata": {
    "slideshow": {
     "slide_type": "slide"
    }
   },
   "source": [
    "# Discovering String Functions\n",
    "- You can to read the VB documentation\n",
    "- Google is your friend\n",
    "    - Search for **visual basic string methods**\n",
    "- Read also microsoft reference documents for VB\n",
    "    - See [here](https://docs.microsoft.com/en-us/dotnet/api/system.string?view=netframework-4.7.1#string-operations-by-category), and [here](https://docs.microsoft.com/en-us/dotnet/visual-basic/language-reference/keywords/string-manipulation-summary)\n",
    "    - The documentation is richer, you have to search for what you need."
   ]
  },
  {
   "cell_type": "markdown",
   "metadata": {
    "slideshow": {
     "slide_type": "slide"
    }
   },
   "source": [
    "# String Methods in VB\n",
    "- Finding characher/string in a string\n",
    "- Comparing strings\n",
    "- Modifying strings\n",
    "- ...more"
   ]
  },
  {
   "cell_type": "markdown",
   "metadata": {
    "slideshow": {
     "slide_type": "slide"
    }
   },
   "source": [
    "# Searching in strings\n",
    "- [String.IndexOf](https://docs.microsoft.com/en-us/dotnet/api/system.string.indexof?view=netframework-4.7.1#System_String_IndexOf_System_String_) (read documentation first)\n",
    "```vb\n",
    "Dim str As String = \"animal\"\n",
    "Dim index As Integer = str.IndexOf(\"n\")\n",
    "Dim index2 As Integer = str.IndexOf(\"mal\")\n",
    "Dim index3 As Integer = str.IndexOf(\"mak\")\n",
    "' what will index, index2, index3 be?\n",
    "```\n"
   ]
  },
  {
   "cell_type": "markdown",
   "metadata": {
    "slideshow": {
     "slide_type": "slide"
    }
   },
   "source": [
    "# Other Search Methods\n",
    "- Contains\n",
    "- lastIndexOf\n",
    "- StartsWith\n",
    "- endsWith\n",
    "\n",
    "### Try searching google for each one to find out what it does"
   ]
  },
  {
   "cell_type": "markdown",
   "metadata": {
    "slideshow": {
     "slide_type": "slide"
    }
   },
   "source": [
    "# Comparing String \n",
    "- [String.Compare(str1, str2)](https://docs.microsoft.com/en-us/dotnet/api/system.string.compare?view=netframework-4.7.1#System_String_Compare_System_String_System_String_)\n",
    "- Return 0 if str1 and str2 are equal\n",
    "- returns > 0 if str1 precedes str2\n",
    "- Returns < 0 if str2 follows str2 "
   ]
  },
  {
   "cell_type": "markdown",
   "metadata": {
    "slideshow": {
     "slide_type": "slide"
    }
   },
   "source": [
    "# Modifying Strings\n",
    "- See [Modifying Strings documentation](https://docs.microsoft.com/en-us/dotnet/api/system.string?view=netframework-4.7.1#modifying-a-string)\n",
    "- insert, remove, replace\n",
    "- toLower, toUpper\n",
    "- trim"
   ]
  },
  {
   "cell_type": "markdown",
   "metadata": {
    "slideshow": {
     "slide_type": "slide"
    }
   },
   "source": [
    "# Challenge\n",
    "- Create an application with the following features\n",
    "- Takes text input from user\n",
    "- For text:\n",
    "    - User can convert all text to lower case or upper case\n",
    "    - User can search for a letter or word in the text\n",
    "    - User can replace words/letters with other words/letters\n",
    "    - Prevent user from perfoming these functions on Numbers\n",
    "- For Numbers:\n",
    "    - Find if number is double\n",
    "    - Prevent user from perfoming function on Text"
   ]
  }
 ],
 "metadata": {
  "celltoolbar": "Slideshow",
  "kernelspec": {
   "display_name": "Python 3",
   "language": "python",
   "name": "python3"
  },
  "language_info": {
   "codemirror_mode": {
    "name": "ipython",
    "version": 3
   },
   "file_extension": ".py",
   "mimetype": "text/x-python",
   "name": "python",
   "nbconvert_exporter": "python",
   "pygments_lexer": "ipython3",
   "version": "3.6.0"
  }
 },
 "nbformat": 4,
 "nbformat_minor": 2
}
