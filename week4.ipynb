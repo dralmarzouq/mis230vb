{
 "cells": [
  {
   "cell_type": "markdown",
   "metadata": {
    "slideshow": {
     "slide_type": "slide"
    }
   },
   "source": [
    "# Operators\n",
    "- Used to construct represent operations on variables and data\n",
    "- Examples include mathematical and logical\n",
    "- Typically on the right side of the assignment operator **=**"
   ]
  },
  {
   "cell_type": "markdown",
   "metadata": {
    "slideshow": {
     "slide_type": "slide"
    }
   },
   "source": [
    "# Examples of Expressions With Operators\n",
    "```vb.net\n",
    "x = 5 + y\n",
    "lblOut.Text = 2 * 3.15 * radius ^ 2\n",
    "isWorking = isOpen or isReading\n",
    "textMessage = \"hello \" & name & \" your birthday is on \" & birthDay\n",
    "```\n",
    "### Notice that an operator can combine multiple values together, and usually on the right of an assignment operator"
   ]
  },
  {
   "cell_type": "markdown",
   "metadata": {
    "slideshow": {
     "slide_type": "slide"
    }
   },
   "source": [
    "# Expressions\n",
    "- Can include multiple variables, expressions, data, and sub/functions\n",
    "  - Each one is called a term, e.g.:`x+5+y`\n",
    "- VB will attempt to convert the type of every term to match the first one\n",
    "  - Will throw an error if it cannot convert it\n",
    "  - Some programming languages prefer to give an error without conversion\n",
    "  - VB is designed for windows development where lots of conversion to/from strings is done, so convertion is done automatically"
   ]
  },
  {
   "cell_type": "markdown",
   "metadata": {
    "slideshow": {
     "slide_type": "slide"
    }
   },
   "source": [
    "# Operators In VB Ordered by Precedence\n",
    "|Operator| Description|\n",
    "| :---: | ------:|\n",
    "|^|Exponentiation|\n",
    "|+,-|Unary identity and negation|\n",
    "|\\*,/| Multiplication and floating-point division|\n",
    "|\\\\|Integer division|\n",
    "|Mod|Modulus arithmetic|\n",
    "| +,- |Addition and subtraction, string concatenation|\n",
    "| & | String concatenation |\n",
    "|>,<,<>,<=,>=,=| Comparisons **(result is True or False)**|\n",
    "|=| Assignment **(No result, but changes the variable on the left side)**|\n",
    "\n",
    "\n"
   ]
  },
  {
   "cell_type": "markdown",
   "metadata": {
    "slideshow": {
     "slide_type": "slide"
    }
   },
   "source": [
    "# Operator Precedence\n",
    "```vb.net\n",
    "x + y\n",
    "x + y - z\n",
    "x + y * z\n",
    "(x+y) * z ‘you can modify precedence using ( )\n",
    "x / y * z ‘evaluated from left to right\n",
    "x / (y * z)\n",
    "```"
   ]
  },
  {
   "cell_type": "markdown",
   "metadata": {
    "slideshow": {
     "slide_type": "slide"
    }
   },
   "source": [
    "# Exercise\n",
    "Create a program that performs the following tasks\n",
    "- Convert the temprature (supplied by the user) from F to C and from C to F\n",
    "- Conversion formula is: F = 9/5*C + 32\n",
    "- Name the project: tempconvert"
   ]
  },
  {
   "cell_type": "markdown",
   "metadata": {
    "slideshow": {
     "slide_type": "fragment"
    }
   },
   "source": [
    "# Challenge\n",
    "- Use a single textBox and single output"
   ]
  },
  {
   "cell_type": "markdown",
   "metadata": {
    "slideshow": {
     "slide_type": "slide"
    }
   },
   "source": [
    "# Another Exercise\n",
    "Create a program that perform the following tasks\n",
    "- Calculate the Body Mass Index\n",
    "- $BMI = \\frac{kg}{m^2}$, where KG is weight in KG, and m is the length in meters\n",
    "- Based on BMI, tell the user whether he/she is:\n",
    "  - Underweight: $BMI < 18.5$\n",
    "  - Healthy: $18.5 \\leq BMI \\leq 25$\n",
    "  - Overweight: $BMI > 25$\n"
   ]
  }
 ],
 "metadata": {
  "celltoolbar": "Slideshow",
  "kernelspec": {
   "display_name": "Python 3",
   "language": "python",
   "name": "python3"
  },
  "language_info": {
   "codemirror_mode": {
    "name": "ipython",
    "version": 3
   },
   "file_extension": ".py",
   "mimetype": "text/x-python",
   "name": "python",
   "nbconvert_exporter": "python",
   "pygments_lexer": "ipython3",
   "version": "3.5.2"
  }
 },
 "nbformat": 4,
 "nbformat_minor": 2
}
