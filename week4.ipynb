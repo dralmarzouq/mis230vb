{
 "cells": [
  {
   "cell_type": "code",
   "execution_count": null,
   "metadata": {
    "slideshow": {
     "slide_type": "slide"
    }
   },
   "outputs": [],
   "source": [
    "\n",
    "# conditionals also should include input validation\n"
   ]
  },
  {
   "cell_type": "markdown",
   "metadata": {
    "slideshow": {
     "slide_type": "slide"
    }
   },
   "source": [
    "# Operators\n",
    "- Used to construct represent operations on variables and data\n",
    "- Examples include mathematical and logical\n",
    "- Typically on the right side of the assignment operator **=**"
   ]
  },
  {
   "cell_type": "markdown",
   "metadata": {
    "slideshow": {
     "slide_type": "slide"
    }
   },
   "source": [
    "# Examples of Expressions With Operators\n",
    "```vb.net\n",
    "x = 5 + y\n",
    "lblOut.Text = 2 * 3.15 * radius ^ 2\n",
    "isWorking = isOpen or isReading\n",
    "textMessage = \"hello \" & name & \" your birthday is on \" & birthDay\n",
    "```\n",
    "### Notice that an operator can combine multiple values together, and usually on the right of an assignment operator"
   ]
  },
  {
   "cell_type": "markdown",
   "metadata": {
    "slideshow": {
     "slide_type": "slide"
    }
   },
   "source": [
    "# Expressions\n",
    "- Can include multiple variables, expressions, data, and sub/functions\n",
    "  - Each one is called a term, e.g.:`x+5+y`\n",
    "- VB will attempt to convert the type of every term to match the first one\n",
    "  - Will throw an error if it cannot convert it\n",
    "  - Some programming languages prefer to give an error without conversion\n",
    "  - VB is designed for windows development where lots of conversion to/from strings is done, so convertion is done automatically"
   ]
  },
  {
   "cell_type": "markdown",
   "metadata": {
    "slideshow": {
     "slide_type": "slide"
    }
   },
   "source": [
    "# Operators In VB Ordered by Precedence\n",
    "|Operator| Description|\n",
    "| :---: | ------:|\n",
    "|^|Exponentiation|\n",
    "|+,-|Unary identity and negation|\n",
    "|\\*,/| Multiplication and floating-point division|\n",
    "|\\\\|Integer division|\n",
    "|Mod|Modulus arithmetic|\n",
    "| +,- |Addition and subtraction, string concatenation|\n",
    "| & | String concatenation |\n",
    "|>,<,<>,<=,>=,=| Comparisons **(result is True or False)**|\n",
    "|=| Assignment **(No result, but changes the variable on the left side)**|\n",
    "\n",
    "\n"
   ]
  },
  {
   "cell_type": "markdown",
   "metadata": {
    "slideshow": {
     "slide_type": "slide"
    }
   },
   "source": [
    "# Operator Precedence\n",
    "```vb.net\n",
    "x + y\n",
    "x + y - z\n",
    "x + y * z\n",
    "(x+y) * z ‘you can modify precedence using ( )\n",
    "x / y * z ‘evaluated from left to right\n",
    "x / (y * z)\n",
    "```"
   ]
  },
  {
   "cell_type": "markdown",
   "metadata": {
    "slideshow": {
     "slide_type": "slide"
    }
   },
   "source": [
    "# Exercise\n",
    "Create a program that performs the following tasks\n",
    "- Convert the temprature (supplied by the user) from F to C and from C to F\n",
    "- Conversion formula is: F = 9/5*C + 32\n",
    "- Name the project: tempconvert"
   ]
  },
  {
   "cell_type": "markdown",
   "metadata": {
    "slideshow": {
     "slide_type": "fragment"
    }
   },
   "source": [
    "# Challenge\n",
    "- Use a single textBox and single output"
   ]
  },
  {
   "cell_type": "markdown",
   "metadata": {
    "slideshow": {
     "slide_type": "fragment"
    }
   },
   "source": [
    "# Another Exercise\n",
    "Create a program that perform the following tasks\n",
    "- Calculate the Body Mass Index\n",
    "- $BMI = \\frac{kg}{m^2}$, where KG is weight in KG, and m is the length in meters\n",
    "- Based on BMI, tell the user whether he/she is:\n",
    "  - Underweight: $BMI < 18.5$\n",
    "  - Healthy: $18.5 \\leq BMI \\leq 25$\n",
    "  - Overweight: $BMI > 25$\n"
   ]
  },
  {
   "cell_type": "markdown",
   "metadata": {
    "slideshow": {
     "slide_type": "slide"
    }
   },
   "source": [
    "# Problem\n",
    "- How can we get the computer to make a decision based on a value?\n",
    "- From last exercise, the computer should decide based on BMI whether user is underweight, healthy, or overweight\n",
    "- **Solution:** Conditionals\n",
    "  - Also known as the if statement"
   ]
  },
  {
   "cell_type": "markdown",
   "metadata": {
    "slideshow": {
     "slide_type": "slide"
    }
   },
   "source": [
    "# The If Statement\n",
    "- A Conditional, meaning, it contains a condition\n",
    "  - Condition is based on BMI\n",
    "- Executes a code block **only if the condition is true**\n",
    "  - A code block is a section of the program containing statements\n"
   ]
  },
  {
   "cell_type": "markdown",
   "metadata": {
    "slideshow": {
     "slide_type": "slide"
    }
   },
   "source": [
    "# If Syntax\n",
    "```vb\n",
    "If condition then\n",
    "    ' expressions here\n",
    "    ' can be multiple lines\n",
    "    ' can be anything you learned so far\n",
    "    ' even another if statement!\n",
    "End If\n",
    "```"
   ]
  },
  {
   "cell_type": "markdown",
   "metadata": {
    "slideshow": {
     "slide_type": "slide"
    }
   },
   "source": [
    "# Condition Can Be\n",
    "- Variables\n",
    "- Expressions with comparison operators (logical or mathimatical)\n",
    "- Function that returns a value\n"
   ]
  },
  {
   "cell_type": "markdown",
   "metadata": {
    "slideshow": {
     "slide_type": "slide"
    }
   },
   "source": [
    "# The Condition is False if\n",
    "- Expression, variable or Function results in:\n",
    "  - False value\n",
    "  - 0 if Numeric value\n",
    "  - Empty string\n",
    "    - Then it is considered **False condition**\n",
    "    - Otherwise it is a True **condition**"
   ]
  },
  {
   "cell_type": "markdown",
   "metadata": {
    "slideshow": {
     "slide_type": "slide"
    }
   },
   "source": [
    "# BMI Solution\n",
    "```vb\n",
    "If lblBMI.text < 18.5 then\n",
    "    MsgBox(\"You are underweight!\")\n",
    "End If\n",
    "```\n",
    "### Can you write the other conditions?"
   ]
  },
  {
   "cell_type": "markdown",
   "metadata": {
    "slideshow": {
     "slide_type": "slide"
    }
   },
   "source": [
    "# Overweight Condition\n",
    "```vb\n",
    "If lblBMI.text > 25 then\n",
    "    MsgBox(\"You are overweight!\")\n",
    "End If\n",
    "```"
   ]
  },
  {
   "cell_type": "markdown",
   "metadata": {
    "slideshow": {
     "slide_type": "slide"
    }
   },
   "source": [
    "# Healthy Condition\n",
    "- This one is a challenge because it contains 2 condition:\n",
    "  - bmi >= 18.5 and\n",
    "  - bmi <= 25\n",
    "- Conditions are logical expressions\n",
    "- We can combine logical expressions using logic operators **And**, **Or**\n"
   ]
  },
  {
   "cell_type": "markdown",
   "metadata": {
    "slideshow": {
     "slide_type": "slide"
    }
   },
   "source": [
    "# And Logical Operator\n",
    "- Both terms must be true for the result to be true\n",
    "  - **True And True = True**\n",
    "  - True And False = False\n",
    "  - False And True = False\n",
    "  - False And False = False\n"
   ]
  },
  {
   "cell_type": "markdown",
   "metadata": {
    "slideshow": {
     "slide_type": "slide"
    }
   },
   "source": [
    "# Or Logical Operator\n",
    "- If any term is true, then the result is true\n",
    "  - True And True = True\n",
    "  - True And False = True\n",
    "  - False And True = True\n",
    "  - **False And False = False**\n"
   ]
  },
  {
   "cell_type": "markdown",
   "metadata": {
    "slideshow": {
     "slide_type": "slide"
    }
   },
   "source": [
    "# Healthy Condition Solution\n",
    "How do we combine the conditions?"
   ]
  },
  {
   "cell_type": "markdown",
   "metadata": {
    "slideshow": {
     "slide_type": "fragment"
    }
   },
   "source": [
    "```vb\n",
    "If lblBMI.text >= 18.5 And lblBMI.text <= 25 Then\n",
    "    MsgBox(\"You are healthy!\")\n",
    "End If\n",
    "```"
   ]
  },
  {
   "cell_type": "markdown",
   "metadata": {
    "slideshow": {
     "slide_type": "slide"
    }
   },
   "source": [
    "# Exercise\n",
    "- Create a program that asks the user for height and width of a rectangular shape.\n",
    "- If the height is equal to the width, then the program should notify the user that this is a square\n",
    "- If not, then the program should tell the user that the shape is a rectangle"
   ]
  },
  {
   "cell_type": "markdown",
   "metadata": {
    "slideshow": {
     "slide_type": "fragment"
    }
   },
   "source": [
    "# Challenge\n",
    "- Improve the program to display the area of the shape using the appropriate formula\n",
    "- Square area = $Width^2$\n",
    "- Rectangular area = $Width * Height$"
   ]
  }
 ],
 "metadata": {
  "celltoolbar": "Slideshow",
  "kernelspec": {
   "display_name": "Python 3",
   "language": "python",
   "name": "python3"
  },
  "language_info": {
   "codemirror_mode": {
    "name": "ipython",
    "version": 3
   },
   "file_extension": ".py",
   "mimetype": "text/x-python",
   "name": "python",
   "nbconvert_exporter": "python",
   "pygments_lexer": "ipython3",
   "version": "3.5.2"
  }
 },
 "nbformat": 4,
 "nbformat_minor": 2
}
