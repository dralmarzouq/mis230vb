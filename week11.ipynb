{
 "cells": [
  {
   "cell_type": "markdown",
   "metadata": {
    "slideshow": {
     "slide_type": "slide"
    }
   },
   "source": [
    "# Loops\n",
    "- Another Conditional Structure\n",
    "    - Has condition and code block\n",
    "- Repeats the code block while the condition is true\n",
    "    - How is this different from an if statement?\n",
    "    - When does execution stop?\n",
    "- Most useful with collection, to perform same action on collection items"
   ]
  },
  {
   "cell_type": "markdown",
   "metadata": {
    "slideshow": {
     "slide_type": "slide"
    }
   },
   "source": [
    "# Loops in VB\n",
    "- While Loops: If like condition checked before the start of any iteration **(what is an iteration?)**\n",
    "- Do While loops: If like condition checked at the end of every iteration\n",
    "- For Loops: Used with collections, condition is implicit, works on all items in a collection until all are exhausted\n",
    "    - We will mainly use for loops"
   ]
  },
  {
   "cell_type": "markdown",
   "metadata": {
    "slideshow": {
     "slide_type": "slide"
    }
   },
   "source": [
    "# For Loops\n",
    "- Used to iterate over collection items\n",
    "\n",
    "```vb.net\n",
    "Dim nameList As New List(Of String) From {\"mohammed\", \"ali\", \"sara\"}\n",
    "\n",
    "For Each x in myList: ' Where is the condition?\n",
    "    MsgBox(x)\n",
    "Next 'end of the block\n",
    "```\n",
    "\n",
    "What is x? What is its type?"
   ]
  },
  {
   "cell_type": "markdown",
   "metadata": {
    "slideshow": {
     "slide_type": "slide"
    }
   },
   "source": [
    "# Another Kind of For Loops\n",
    "- Used to repeat an action a specific number of times\n",
    "\n",
    "```vb.net\n",
    "Dim nameList As New List(Of String) From {\"mohammed\", \"ali\", \"sara\"}\n",
    "\n",
    "For x = 0 to 10: ' Where is the condition?\n",
    "    MsgBox(x)\n",
    "Next 'end of the block\n",
    "```\n",
    "\n",
    "What is the difference from the previous for loop? Can we use this type to iterate over nameList?"
   ]
  },
  {
   "cell_type": "markdown",
   "metadata": {
    "slideshow": {
     "slide_type": "slide"
    }
   },
   "source": [
    "# Challenge\n",
    "Create an application that:\n",
    "- Stores names of contacts\n",
    "- Allows user to capitalize all names\n",
    "- Allows user to remove names\n",
    "- Allows user to sort the names (use two different methods)\n",
    "- Allows the user to restore all the lost names and reset any changes done to the list"
   ]
  },
  {
   "cell_type": "markdown",
   "metadata": {
    "slideshow": {
     "slide_type": "slide"
    }
   },
   "source": [
    "# Useful Operations That USe Loops\n",
    "- Counting\n",
    "- Summing\n",
    "- Find Min/Max\n",
    "- Sorting\n",
    "- Search/Filter"
   ]
  },
  {
   "cell_type": "markdown",
   "metadata": {
    "slideshow": {
     "slide_type": "slide"
    }
   },
   "source": [
    "# Counting\n",
    "\n",
    "```vb.net\n",
    "Dim myList As New List(Of Integer) From {5, 6, 72, 3}\n",
    "Dim intCount As Integer = 0 'must have a counter initialized to zero\n",
    "\n",
    "For Each x In myList\n",
    "       intCount = intCount + 1\n",
    "Next\n",
    "\n",
    "MsgBox(\"Total count: \" & intCount)\n",
    "\n",
    "```\n",
    "Can you modify to count only odd numbers?"
   ]
  },
  {
   "cell_type": "markdown",
   "metadata": {
    "slideshow": {
     "slide_type": "slide"
    }
   },
   "source": [
    "# Summing\n",
    "\n",
    "```vb.net\n",
    "Dim myList As New List(Of Integer) From {5, 6, 72, 3}\n",
    "Dim intSum As Integer = 0 'must have a summation variable initialized to zero\n",
    "\n",
    "For Each x In myList\n",
    "       intSum = intSum + x\n",
    "Next\n",
    "\n",
    "MsgBox(\"Total count: \" & intSum)\n",
    "\n",
    "```\n",
    "Can you modify to sum only even numbers? or numbers less than 10?"
   ]
  },
  {
   "cell_type": "markdown",
   "metadata": {
    "slideshow": {
     "slide_type": "slide"
    }
   },
   "source": [
    "# Shopping List Exercise\n",
    "\n",
    "- Create a shopping list that you add items, their quantity, and unit price to the list\n",
    "- User should be able to remove items from the list\n",
    "- Include a stats button that shows the total price, total number of items, and average item price\n"
   ]
  },
  {
   "cell_type": "markdown",
   "metadata": {
    "slideshow": {
     "slide_type": "fragment"
    }
   },
   "source": [
    "# Improved Shopping List\n",
    "- Show only the list of items in a list box, quantity and unit price should not be shown in a ListBox\n",
    "- Upon selecting an item show the quantity and total item price in a Label\n"
   ]
  },
  {
   "cell_type": "markdown",
   "metadata": {
    "slideshow": {
     "slide_type": "slide"
    }
   },
   "source": [
    "# Something to think about\n",
    "- What happens if we sort the shopping list?"
   ]
  }
 ],
 "metadata": {
  "celltoolbar": "Slideshow",
  "kernelspec": {
   "display_name": "Python 3",
   "language": "python",
   "name": "python3"
  },
  "language_info": {
   "codemirror_mode": {
    "name": "ipython",
    "version": 3
   },
   "file_extension": ".py",
   "mimetype": "text/x-python",
   "name": "python",
   "nbconvert_exporter": "python",
   "pygments_lexer": "ipython3",
   "version": "3.6.0"
  }
 },
 "nbformat": 4,
 "nbformat_minor": 2
}
