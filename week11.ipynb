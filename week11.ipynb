{
 "cells": [
  {
   "cell_type": "markdown",
   "metadata": {
    "slideshow": {
     "slide_type": "slide"
    }
   },
   "source": [
    "# Loops\n",
    "- Another Conditional Structure\n",
    "    - Has condition and code block\n",
    "- Repeats the code block while the condition is true\n",
    "    - How is this different from an if statement?\n",
    "    - When does execution stop?\n",
    "- Most useful with collection, to perform same action on collection items"
   ]
  },
  {
   "cell_type": "markdown",
   "metadata": {
    "slideshow": {
     "slide_type": "slide"
    }
   },
   "source": [
    "# Loops in VB\n",
    "- While Loops: If like condition checked before the start of any iteration **(what is an iteration?)**\n",
    "- Do While loops: If like condition checked at the end of every iteration\n",
    "- For Loops: Used with collections, condition is implicit, works on all items in a collection until all are exhausted\n",
    "    - We will mainly use for loops"
   ]
  },
  {
   "cell_type": "markdown",
   "metadata": {
    "slideshow": {
     "slide_type": "slide"
    }
   },
   "source": [
    "# For Loops\n",
    "- Used to iterate over collection items\n",
    "\n",
    "```vb.net\n",
    "Dim nameList As New List(Of String) From {\"mohammed\", \"ali\", \"sara\"}\n",
    "\n",
    "For Each x in nameList: ' Where is the condition?\n",
    "    MsgBox(x)\n",
    "Next 'end of the block\n",
    "```\n",
    "\n",
    "What is x? What is its type?\n",
    "\n",
    "**Important Note:** Never change the list you are looping with for each by adding or dropping items."
   ]
  },
  {
   "cell_type": "markdown",
   "metadata": {
    "slideshow": {
     "slide_type": "slide"
    }
   },
   "source": [
    "# Another Kind of For Loops\n",
    "- Used to repeat an action a specific number of times\n",
    "\n",
    "```vb.net\n",
    "Dim nameList As New List(Of String) From {\"mohammed\", \"ali\", \"sara\"}\n",
    "\n",
    "For x = 0 to 10: ' Where is the condition?\n",
    "    MsgBox(x)\n",
    "Next 'end of the block\n",
    "```\n",
    "\n",
    "What is the difference from the previous for loop? Can we use this type to iterate over nameList?\n",
    "\n",
    "**Remember**: if you know the index, you can fetch an item or replace it directly from the list"
   ]
  },
  {
   "cell_type": "markdown",
   "metadata": {
    "slideshow": {
     "slide_type": "slide"
    }
   },
   "source": [
    "# Differences between For Each and For loops\n",
    "\n",
    "|  &nbsp; | For Each | For  |\n",
    "|:-:|:-:|:-:|\n",
    "| **Number of iterations** | Equal to number of<br>items in collection | Set by the developer |\n",
    "| **Loop variable** | Contains a different item<br>in the collection with each loop | Contains the index,<br>which is a number that is<br>incremented by one with each loop |\n",
    "| **Modifying iterated<br>collection** | Not allowed | Allowed |\n",
    "| **To get iteration index**| You have to create<br>a counter that you increment<br>with each iteration | The loop variable contains it|\n",
    "| **To get iteration item**| The loop variable contains it| You fetch item by index |"
   ]
  },
  {
   "cell_type": "markdown",
   "metadata": {
    "slideshow": {
     "slide_type": "slide"
    }
   },
   "source": [
    "# When to use each loop?\n",
    "- If all you need is to read items to calculate sums/average or display items, then all you need is **For Each loop**\n",
    "- If you need to relate items in multiple lists, you have to relate them by index, then use **For loop**\n",
    "- If you need to modify the items in the same list you iterate over, then use **For loop**\n",
    "\n",
    "**Important Note:** Everything you do with a *For Each* loop, can also be done with a *For Loop*, the difference is that it take more typing to always fetch items by index"
   ]
  },
  {
   "cell_type": "markdown",
   "metadata": {
    "slideshow": {
     "slide_type": "slide"
    }
   },
   "source": [
    "# Challenge\n",
    "Create an application that:\n",
    "- Stores names of contacts\n",
    "- Allows user to capitalize all names\n",
    "- Allows user to remove names\n",
    "- Allows user to sort the names (use two different methods)\n",
    "- Allows the user to restore all the lost names and reset any changes done to the list"
   ]
  },
  {
   "cell_type": "markdown",
   "metadata": {
    "slideshow": {
     "slide_type": "slide"
    }
   },
   "source": [
    "# Useful Operations That Use Loops\n",
    "- Counting\n",
    "- Summing\n",
    "- Find Min/Max\n",
    "- Sorting\n",
    "- Search/Filter"
   ]
  },
  {
   "cell_type": "markdown",
   "metadata": {
    "slideshow": {
     "slide_type": "slide"
    }
   },
   "source": [
    "# Counting\n",
    "\n",
    "```vb.net\n",
    "Dim myList As New List(Of Integer) From {5, 6, 72, 3}\n",
    "Dim intCount As Integer = 0 'must have a counter initialized to zero\n",
    "\n",
    "For Each x In myList\n",
    "       intCount = intCount + 1\n",
    "Next\n",
    "\n",
    "MsgBox(\"Total count: \" & intCount)\n",
    "\n",
    "```\n",
    "Can you modify to count only odd numbers?"
   ]
  },
  {
   "cell_type": "markdown",
   "metadata": {
    "slideshow": {
     "slide_type": "slide"
    }
   },
   "source": [
    "# Summing\n",
    "\n",
    "```vb.net\n",
    "Dim myList As New List(Of Integer) From {5, 6, 72, 3}\n",
    "Dim intSum As Integer = 0 'must have a summation variable initialized to zero\n",
    "\n",
    "For Each x In myList\n",
    "       intSum = intSum + x\n",
    "Next\n",
    "\n",
    "MsgBox(\"Total count: \" & intSum)\n",
    "\n",
    "```\n",
    "Can you modify to sum only even numbers? or numbers less than 10?"
   ]
  },
  {
   "cell_type": "markdown",
   "metadata": {
    "slideshow": {
     "slide_type": "slide"
    }
   },
   "source": [
    "# Maximum\n",
    "\n",
    "```vb.net\n",
    "Dim myList As New List(Of Integer) From {5, 6, 72, 3}\n",
    "Dim maximum As Integer =  myList(0) 'Assume first value is minimum, look for bigger\n",
    "\n",
    "For Each x In myList\n",
    "    ' look for a value greater than maximum\n",
    "    ' it should be the new maximum\n",
    "    If x > maximum Then\n",
    "        maximum = x\n",
    "    End If\n",
    "Next\n",
    "\n",
    "MsgBox(\"Total count: \" & maximum)\n",
    "\n",
    "```"
   ]
  },
  {
   "cell_type": "markdown",
   "metadata": {
    "slideshow": {
     "slide_type": "slide"
    }
   },
   "source": [
    "# Minimum\n",
    "\n",
    "```vb.net\n",
    "Dim myList As New List(Of Integer) From {5, 6, 72, 3}\n",
    "Dim minimum As Integer =  myList(0) 'Assume first value is minimum, look for smaller\n",
    "\n",
    "For Each x In myList\n",
    "    ' look for a value less than minimum\n",
    "    ' it should be the new minimum\n",
    "    If x < minimum Then\n",
    "        minimum = x\n",
    "    End If\n",
    "Next\n",
    "\n",
    "MsgBox(\"Total count: \" & minimum)\n",
    "\n",
    "```"
   ]
  },
  {
   "cell_type": "markdown",
   "metadata": {
    "slideshow": {
     "slide_type": "slide"
    }
   },
   "source": [
    "# Challenge\n",
    "\n",
    "Create an application with the following features:\n",
    "- Allows instructor to enter student grades and display them as a list\n",
    "- Find the minimum, maximum, and average grade in class"
   ]
  },
  {
   "cell_type": "markdown",
   "metadata": {
    "slideshow": {
     "slide_type": "slide"
    }
   },
   "source": [
    "# Shopping List Exercise\n",
    "\n",
    "- Create a shopping list that you add items, their quantity, and unit price to the list\n",
    "- User should be able to remove items from the list\n",
    "- Show the total price for the shopping list, total number of items, and average item price\n",
    "- When selecting an item, the corrsponding quantity and unit price must be selected as well.\n",
    "- When an item is selected, the show the total for that item.\n",
    "- Allow user to update the values for selected entries.\n",
    "\n",
    "**Hint**: The items that match in each list must remain in the same index across lists.\n",
    "\n",
    "**Potential problem**: what if you sort the list?\n"
   ]
  },
  {
   "cell_type": "code",
   "execution_count": null,
   "metadata": {
    "collapsed": true
   },
   "outputs": [],
   "source": []
  }
 ],
 "metadata": {
  "celltoolbar": "Slideshow",
  "kernelspec": {
   "display_name": "Python 3",
   "language": "python",
   "name": "python3"
  },
  "language_info": {
   "codemirror_mode": {
    "name": "ipython",
    "version": 3
   },
   "file_extension": ".py",
   "mimetype": "text/x-python",
   "name": "python",
   "nbconvert_exporter": "python",
   "pygments_lexer": "ipython3",
   "version": "3.7.0"
  }
 },
 "nbformat": 4,
 "nbformat_minor": 2
}
