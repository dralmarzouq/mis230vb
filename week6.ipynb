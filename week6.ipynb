{
 "cells": [
  {
   "cell_type": "markdown",
   "metadata": {
    "slideshow": {
     "slide_type": "slide"
    }
   },
   "source": [
    "# If Statements\n",
    "- Must contain\n",
    "    - Condition\n",
    "    - Code block\n"
   ]
  },
  {
   "cell_type": "markdown",
   "metadata": {
    "slideshow": {
     "slide_type": "slide"
    }
   },
   "source": [
    "# Example\n",
    "```vb\n",
    "' Where is condition? code block?\n",
    "' What is the execution flow?\n",
    "If x = \"Mohammed\" Then\n",
    "    MSGBox(\"Hello Mohammad\")\n",
    "End If\n",
    "\n",
    "If x = \"Ali\" Then\n",
    "    MSGBox(\"Hello Ali\")\n",
    "End If\n",
    "```"
   ]
  },
  {
   "cell_type": "markdown",
   "metadata": {
    "slideshow": {
     "slide_type": "slide"
    }
   },
   "source": [
    "## If x = \"Mohammad\", Do we need to check if x = \"Ali\"?"
   ]
  },
  {
   "cell_type": "markdown",
   "metadata": {
    "slideshow": {
     "slide_type": "fragment"
    }
   },
   "source": [
    "# No\n",
    "### Use Else If statement for this"
   ]
  },
  {
   "cell_type": "markdown",
   "metadata": {
    "slideshow": {
     "slide_type": "slide"
    }
   },
   "source": [
    "# Relating If Statements to Each Other\n",
    "- We use the **Else If** statement:\n",
    "```vb\n",
    "If x = \"Mohammed\" Then\n",
    "    MSGBox(\"Hello Mohammad\")\n",
    "Else If x = \"Ali\" Then\n",
    "    MSGBox(\"Hello Ali\")\n",
    "End If\n",
    "```"
   ]
  },
  {
   "cell_type": "markdown",
   "metadata": {
    "slideshow": {
     "slide_type": "slide"
    }
   },
   "source": [
    "# We Can Even Add More\n",
    "```vb\n",
    "If x = \"Mohammed\" Then\n",
    "    MSGBox(\"Hello Mohammad\")\n",
    "Else If x = \"Ali\" Then\n",
    "    MSGBox(\"Hello Ali\")\n",
    "Else If x = \"Sara\" Then\n",
    "    MSGBox(\"Hello Sara\")\n",
    "Else If x = \"Nasser\" Then\n",
    "    MSGBox(\"Hello Nasser\")\n",
    "End If\n",
    "```"
   ]
  },
  {
   "cell_type": "markdown",
   "metadata": {
    "slideshow": {
     "slide_type": "slide"
    }
   },
   "source": [
    "# Else If Statements\n",
    "- Must be used **WITH** if statements\n",
    "- Must have a condition\n",
    "- The code for the first tru condition will be executed, all others after it will be ignored\n",
    "    - A condition will never be executed if any condition above it is True\n",
    "- Can have as many else if statements follow if as we like"
   ]
  },
  {
   "cell_type": "markdown",
   "metadata": {
    "slideshow": {
     "slide_type": "slide"
    }
   },
   "source": [
    "# What if you want to perform one task if a condition is true, and another if it is false\n",
    "### Use Else statement"
   ]
  },
  {
   "cell_type": "markdown",
   "metadata": {
    "slideshow": {
     "slide_type": "fragment"
    }
   },
   "source": [
    "```vb\n",
    "If x = \"Mohammed\" Then\n",
    "    MSGBox(\"Hello Mohammad\")\n",
    "Else\n",
    "    MSGBox(\"Go Away!\")\n",
    "End If\n",
    "```"
   ]
  },
  {
   "cell_type": "markdown",
   "metadata": {
    "slideshow": {
     "slide_type": "slide"
    }
   },
   "source": [
    "# Can be combined with Else If also\n",
    "```vb\n",
    "If x = \"Mohammed\" Then\n",
    "    MSGBox(\"Hello Mohammad\")\n",
    "Else If x = \"Ali\" Then\n",
    "    MSGBox(\"Hello Ali\")\n",
    "Else\n",
    "    MSGBox(\"Go Away!\")\n",
    "End If\n",
    "```"
   ]
  },
  {
   "cell_type": "markdown",
   "metadata": {
    "slideshow": {
     "slide_type": "slide"
    }
   },
   "source": [
    "# Else Statement\n",
    "- Must be used with If, must come after it\n",
    "- Can be used with Else If, must come after it\n",
    "- Else code block executed only if all condition before it are False\n",
    "- Doesn't have a condition\n",
    "    - Because it means **If no condition is true**"
   ]
  },
  {
   "cell_type": "markdown",
   "metadata": {
    "slideshow": {
     "slide_type": "slide"
    }
   },
   "source": [
    "# Uses For If Statements\n",
    "- Decision making\n",
    "- Performing different tasks based on different data or special cases\n",
    "- Input validation\n",
    "    - Checking if the data entered into the application is correct\n",
    "- More ..."
   ]
  },
  {
   "cell_type": "markdown",
   "metadata": {
    "slideshow": {
     "slide_type": "slide"
    }
   },
   "source": [
    "# Input Validation\n",
    "- Text input controls allow you to enter strings\n",
    "- Can you enter a name when the application expects a number?\n",
    "    - What happens? What is this called?\n",
    "- With input validation, you:\n",
    "    - Check if the data is what the application expects\n",
    "    - Notify the user of the data entry mistake\n",
    "    - Give the user the opportunity to fix the problem"
   ]
  },
  {
   "cell_type": "markdown",
   "metadata": {
    "slideshow": {
     "slide_type": "slide"
    }
   },
   "source": [
    "# Challenge\n",
    "- Improve the BMI challenge exercise by adding input validation to check for and prevent the following conditions:\n",
    "    - Empty values\n",
    "    - Text values\n",
    "    - Negative values\n",
    "    - Zero values\n",
    "- Show an appropriate message for each condition"
   ]
  },
  {
   "cell_type": "markdown",
   "metadata": {
    "slideshow": {
     "slide_type": "slide"
    }
   },
   "source": [
    "# Radio Buttons and Check Boxes\n",
    "- Used to give user ability to make choices\n",
    "- Radio button limits choice to single option from many\n",
    "- Check box can be used for:\n",
    "    - Single option between 2\n",
    "    - Multiple options from many"
   ]
  },
  {
   "cell_type": "markdown",
   "metadata": {
    "slideshow": {
     "slide_type": "slide"
    }
   },
   "source": [
    "# Challenge\n",
    "- Create currency conversion calculator\n",
    "- Gets amount from user\n",
    "- Converts amount to USD, KWD, SAR"
   ]
  },
  {
   "cell_type": "markdown",
   "metadata": {
    "slideshow": {
     "slide_type": "slide"
    }
   },
   "source": [
    "# Another Challenge\n",
    "- Create a pizza creator/calculator application\n",
    "- User selects the pizza size: Small (0.5 KWD), Medium (1.0 KWD), Large (1.5 KWD)\n",
    "- User then selects toppings for 0.25 kwd each: Cheese, tomato, olives, pepperoni, mushrooms\n",
    "- User selects quantity\n",
    "- Total cost is displayed\n",
    "- Do we need input validation?\n"
   ]
  },
  {
   "cell_type": "markdown",
   "metadata": {
    "slideshow": {
     "slide_type": "slide"
    }
   },
   "source": [
    "# Checking for input in a TextBox\n",
    "- Define KeyUp event\n",
    "- Use e.keycode to check the pressed key\n",
    "- VB makes available a list of keys under Keys.\n",
    "```vb.net\n",
    "Private Sub textBox1_KeyUp(ByVal sender As Object, ByVal e As'..\n",
    "    If e.KeyCode = Keys.Enter Then\n",
    "        MSGBox(\"Enter Key pressed!\")\n",
    "        '\n",
    "    End If\n",
    "End Sub\n",
    "```"
   ]
  }
 ],
 "metadata": {
  "celltoolbar": "Slideshow",
  "kernelspec": {
   "display_name": "Python 3",
   "language": "python",
   "name": "python3"
  },
  "language_info": {
   "codemirror_mode": {
    "name": "ipython",
    "version": 3
   },
   "file_extension": ".py",
   "mimetype": "text/x-python",
   "name": "python",
   "nbconvert_exporter": "python",
   "pygments_lexer": "ipython3",
   "version": "3.5.2"
  }
 },
 "nbformat": 4,
 "nbformat_minor": 2
}
