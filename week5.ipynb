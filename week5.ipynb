{
 "cells": [
  {
   "cell_type": "markdown",
   "metadata": {},
   "source": [
    "# Remember This Exercise\n",
    "Create a program that perform the following tasks\n",
    "- Calculate the Body Mass Index\n",
    "- $BMI = \\frac{kg}{m^2}$, where KG is weight in KG, and m is the length in meters\n",
    "- Based on BMI, tell the user whether he/she is:\n",
    "  - Underweight: $BMI < 18.5$\n",
    "  - Healthy: $18.5 \\leq BMI \\leq 25$\n",
    "  - Overweight: $BMI > 25$\n",
    "\n"
   ]
  },
  {
   "cell_type": "markdown",
   "metadata": {
    "slideshow": {
     "slide_type": "slide"
    }
   },
   "source": [
    "# Problem\n",
    "- How can we get the computer to make a decision based on a value?\n",
    "- From last exercise, the computer should decide based on BMI whether user is underweight, healthy, or overweight\n",
    "- **Solution:** Conditionals\n",
    "  - Also known as the if statement"
   ]
  },
  {
   "cell_type": "markdown",
   "metadata": {
    "slideshow": {
     "slide_type": "slide"
    }
   },
   "source": [
    "# The If Statement\n",
    "- A Conditional, meaning, it contains a condition\n",
    "  - Condition is based on BMI\n",
    "- Executes a code block **only if the condition is true**\n",
    "  - A code block is a section of the program containing statements\n"
   ]
  },
  {
   "cell_type": "markdown",
   "metadata": {
    "slideshow": {
     "slide_type": "slide"
    }
   },
   "source": [
    "# If Syntax\n",
    "```vb.net\n",
    "If condition then\n",
    "    ' expressions here\n",
    "    ' can be multiple lines\n",
    "    ' can be anything you learned so far\n",
    "    ' even another if statement!\n",
    "End If\n",
    "```"
   ]
  },
  {
   "cell_type": "markdown",
   "metadata": {
    "slideshow": {
     "slide_type": "slide"
    }
   },
   "source": [
    "# Condition Can Be\n",
    "- Variables\n",
    "- Expressions with comparison operators (logical or mathimatical)\n",
    "- Function that returns a value\n"
   ]
  },
  {
   "cell_type": "markdown",
   "metadata": {
    "slideshow": {
     "slide_type": "slide"
    }
   },
   "source": [
    "# The Condition is False if\n",
    "- Expression, variable or Function results in:\n",
    "  - False value\n",
    "  - 0 if Numeric value\n",
    "  - Empty string\n",
    "    - Then it is considered **False condition**\n",
    "    - Otherwise it is a True **condition**"
   ]
  },
  {
   "cell_type": "markdown",
   "metadata": {
    "slideshow": {
     "slide_type": "slide"
    }
   },
   "source": [
    "# BMI Solution\n",
    "```vb.net\n",
    "If lblBMI.text < 18.5 then\n",
    "    MsgBox(\"You are underweight!\")\n",
    "End If\n",
    "```\n",
    "### Can you write the other conditions?"
   ]
  },
  {
   "cell_type": "markdown",
   "metadata": {
    "slideshow": {
     "slide_type": "slide"
    }
   },
   "source": [
    "# Overweight Condition\n",
    "```vb.net\n",
    "If lblBMI.text > 25 then\n",
    "    MsgBox(\"You are overweight!\")\n",
    "End If\n",
    "```"
   ]
  },
  {
   "cell_type": "markdown",
   "metadata": {
    "slideshow": {
     "slide_type": "slide"
    }
   },
   "source": [
    "# Healthy Condition\n",
    "- This one is a challenge because it contains 2 condition:\n",
    "  - bmi >= 18.5 and\n",
    "  - bmi <= 25\n",
    "- Conditions are logical expressions\n",
    "- We can combine logical expressions using logic operators **And**, **Or**\n"
   ]
  },
  {
   "cell_type": "markdown",
   "metadata": {
    "slideshow": {
     "slide_type": "slide"
    }
   },
   "source": [
    "# And Logical Operator\n",
    "- Both terms must be true for the result to be true\n",
    "  - **True And True = True**\n",
    "  - True And False = False\n",
    "  - False And True = False\n",
    "  - False And False = False\n"
   ]
  },
  {
   "cell_type": "markdown",
   "metadata": {
    "slideshow": {
     "slide_type": "slide"
    }
   },
   "source": [
    "# Or Logical Operator\n",
    "- If any term is true, then the result is true\n",
    "  - True Or True = True\n",
    "  - True Or False = True\n",
    "  - False Or True = True\n",
    "  - **False And False = False**\n"
   ]
  },
  {
   "cell_type": "markdown",
   "metadata": {
    "slideshow": {
     "slide_type": "slide"
    }
   },
   "source": [
    "# Healthy Condition Solution\n",
    "How do we combine the conditions?"
   ]
  },
  {
   "cell_type": "markdown",
   "metadata": {
    "slideshow": {
     "slide_type": "fragment"
    }
   },
   "source": [
    "```vb.net\n",
    "If lblBMI.text >= 18.5 And lblBMI.text <= 25 Then\n",
    "    MsgBox(\"You are healthy!\")\n",
    "End If\n",
    "```"
   ]
  },
  {
   "cell_type": "markdown",
   "metadata": {
    "slideshow": {
     "slide_type": "slide"
    }
   },
   "source": [
    "# Exercise\n",
    "\n",
    "- Create a program that calculates zakat for Gold زكاة الذهب\n",
    "- The **pure gold (24 karat قيراط)** weight must exceed 85g to have zakat\n",
    "- For gold less than 24 karats, multiply karats by weight then divide by 24 to get the pure gold weight\n",
    "- Calculate Zakat as 2.5%, otherwise, let the user know there is no zakat."
   ]
  }
 ],
 "metadata": {
  "celltoolbar": "Slideshow",
  "kernelspec": {
   "display_name": "Python 3",
   "language": "python",
   "name": "python3"
  },
  "language_info": {
   "codemirror_mode": {
    "name": "ipython",
    "version": 3
   },
   "file_extension": ".py",
   "mimetype": "text/x-python",
   "name": "python",
   "nbconvert_exporter": "python",
   "pygments_lexer": "ipython3",
   "version": "3.7.0"
  }
 },
 "nbformat": 4,
 "nbformat_minor": 2
}
