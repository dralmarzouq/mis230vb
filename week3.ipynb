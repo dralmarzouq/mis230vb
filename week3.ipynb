{
 "cells": [
  {
   "cell_type": "markdown",
   "metadata": {},
   "source": [
    "# Rules For Selecting Variable Name\n",
    "- Must not start with a number\n",
    "- Can include only letters and numbers\n",
    "- Must not include spaces\n",
    "- Must not match the name of another VB command or variable\n",
    "- **Recommendation:** Choose a human readable name that reflects what data is included in the variable"
   ]
  },
  {
   "cell_type": "markdown",
   "metadata": {},
   "source": [
    "# Exercise\n",
    "For the following declerations, determine the variable name and data type for the correct declarations\n",
    "```vb.net\n",
    "dim x as String\n",
    "Dim X as Integer\n",
    "Dim string as string\n",
    "y as string\n",
    "Dim z as Integer\n",
    "Dim my name as String\n",
    "Dim myName as String\n",
    "```"
   ]
  },
  {
   "cell_type": "code",
   "execution_count": null,
   "metadata": {},
   "outputs": [],
   "source": [
    "# Variables and Data Types\n",
    "# dont forget conventions\n",
    "# Input box and start writing expressions (including constructing strings and special characters)\n"
   ]
  }
 ],
 "metadata": {
  "kernelspec": {
   "display_name": "Python 3",
   "language": "python",
   "name": "python3"
  },
  "language_info": {
   "codemirror_mode": {
    "name": "ipython",
    "version": 3
   },
   "file_extension": ".py",
   "mimetype": "text/x-python",
   "name": "python",
   "nbconvert_exporter": "python",
   "pygments_lexer": "ipython3",
   "version": "3.5.2"
  }
 },
 "nbformat": 4,
 "nbformat_minor": 2
}
