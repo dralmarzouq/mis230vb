{
 "cells": [
  {
   "cell_type": "markdown",
   "metadata": {
    "slideshow": {
     "slide_type": "slide"
    }
   },
   "source": [
    "# Variables and Data Types\n",
    "\n",
    "- We have seen that variables are placeholders for data\n",
    "- To use them in VB you must declare them\n",
    "- Decleration is telling the computer to prepare a space in memory to store data and give it a name\n",
    "- Decleration also tells the computer what the type of data well be"
   ]
  },
  {
   "cell_type": "markdown",
   "metadata": {
    "slideshow": {
     "slide_type": "slide"
    }
   },
   "source": [
    "# Example for Decleration\n",
    "\n",
    "```vb.net\n",
    "Dim myStr as String\n",
    "Dim radius as Double\n",
    "```"
   ]
  },
  {
   "cell_type": "markdown",
   "metadata": {
    "slideshow": {
     "slide_type": "slide"
    }
   },
   "source": [
    "# What Are the Available Data Types?\n",
    "\n",
    "| Type | Short |Description | \n",
    "| :---: | :---:|:--------- |\n",
    "| **Boolean** | bln |True, False values |\n",
    "| Short | srt |-32,768 to 32,767 |\n",
    "|**Integer**| int |-2,147,483,648 to 2,147,483,647|\n",
    "|Long|lng|-9,223,372,036,854,775,808 to 9,223,372,036,854,775,807|\n",
    "|**Double**|dbl| Double precision floating point e.g. 10.123423 |\n",
    "|**String**|str| Text data|"
   ]
  },
  {
   "cell_type": "markdown",
   "metadata": {
    "slideshow": {
     "slide_type": "slide"
    }
   },
   "source": [
    "# These are the main data types that we will need\n",
    "## But there are more that we will learn along the way"
   ]
  },
  {
   "cell_type": "markdown",
   "metadata": {
    "slideshow": {
     "slide_type": "slide"
    }
   },
   "source": [
    "# Rules For Selecting Variable Name\n",
    "- Must not start with a number\n",
    "- Can include only letters and numbers\n",
    "- Must not include spaces\n",
    "- Must not match the name of another VB command or variable\n",
    "- **Recommendation:** Follow VB naming conventions to make your programs more readable"
   ]
  },
  {
   "cell_type": "markdown",
   "metadata": {
    "slideshow": {
     "slide_type": "slide"
    }
   },
   "source": [
    "# Variable Naming Conventions in VB\n",
    "- Name consists of two parts:\n",
    "  1. Three letter in lower case to reflect the data type or control\n",
    "    - See the short column from the data type slides\n",
    "  2. Capitalized or Camel Case word to tell us what the data is\n"
   ]
  },
  {
   "cell_type": "markdown",
   "metadata": {
    "slideshow": {
     "slide_type": "slide"
    }
   },
   "source": [
    "# Examples Of Variable Names that Follow Convention\n",
    "- strName\n",
    "- dblTaxRate\n",
    "- intNumberOfStudents\n",
    "\n",
    "### Can you tell what they contain? and what the data type is?"
   ]
  },
  {
   "cell_type": "markdown",
   "metadata": {
    "slideshow": {
     "slide_type": "slide"
    }
   },
   "source": [
    "# Example of Variable Names NOT Following Convention\n",
    "\n",
    "- x\n",
    "- myVar\n",
    "- nameStr\n",
    "- int_number_of_students\n",
    "\n",
    "### What is the problem with each?"
   ]
  },
  {
   "cell_type": "markdown",
   "metadata": {
    "slideshow": {
     "slide_type": "slide"
    }
   },
   "source": [
    "# Exercise: Find Name, Data Type, and Errors\n",
    "```vb.net\n",
    "dim x as String\n",
    "Dim X as Integer\n",
    "Dim string as string\n",
    "y as string\n",
    "Dim z as Integer\n",
    "Dim my name as String\n",
    "Dim myName as String\n",
    "Dim 1guy as String\n",
    "```"
   ]
  },
  {
   "cell_type": "markdown",
   "metadata": {
    "slideshow": {
     "slide_type": "slide"
    }
   },
   "source": [
    "# Variable Initialization\n",
    "\n",
    "- Is to set a value for variable during/after decleration to ensure that it is not in an unknown state\n",
    "\n",
    "```vb.net\n",
    "Dim intWeekDays as Integer = 7\n",
    "\n",
    "'Alternatively\n",
    "\n",
    "Dim intWeekDays as Integer\n",
    "intWeekDays = 7\n",
    "```"
   ]
  },
  {
   "cell_type": "markdown",
   "metadata": {
    "slideshow": {
     "slide_type": "slide"
    }
   },
   "source": [
    "# Remember, it is always good practice to initialize variables"
   ]
  },
  {
   "cell_type": "markdown",
   "metadata": {
    "slideshow": {
     "slide_type": "slide"
    }
   },
   "source": [
    "# Variable Assignment\n",
    "\n",
    "- Can you remember what it is?"
   ]
  },
  {
   "cell_type": "markdown",
   "metadata": {
    "slideshow": {
     "slide_type": "slide"
    }
   },
   "source": [
    "# Variable Assignment\n",
    "\n",
    "```vb.net\n",
    "variable = expresions or value or variable\n",
    "```\n",
    "### Assign the result or value of whatever is on the right, to the variable on the left"
   ]
  },
  {
   "cell_type": "markdown",
   "metadata": {
    "slideshow": {
     "slide_type": "slide"
    }
   },
   "source": [
    "# Variable Assignment\n",
    "What do you expect will happen?\n",
    "```vb.net\n",
    "Dim x as Integer = \"Hello\"\n",
    "```"
   ]
  },
  {
   "cell_type": "markdown",
   "metadata": {
    "slideshow": {
     "slide_type": "slide"
    }
   },
   "source": [
    "# Variable Assignment\n",
    "What do you expect will happen?\n",
    "```vb.net\n",
    "Dim x as String = 5\n",
    "```"
   ]
  },
  {
   "cell_type": "markdown",
   "metadata": {
    "slideshow": {
     "slide_type": "slide"
    }
   },
   "source": [
    "# Variable Assignment\n",
    "What do you expect will happen?\n",
    "```vb.net\n",
    "Dim x as String = 5\n",
    "Dim y as Integer = 5\n",
    "\n",
    "MsgBox(x+y)\n",
    "MsgBox(y+x)\n",
    "```"
   ]
  },
  {
   "cell_type": "markdown",
   "metadata": {
    "slideshow": {
     "slide_type": "slide"
    }
   },
   "source": [
    "# Variables\n",
    "- When you refer to a variable name in an expression or operation, you are telling the computer to use the data in the variables\n",
    "- From last slides, x+y actually means 5+5\n",
    "  - Of course it depends on what value is inside x or y"
   ]
  },
  {
   "cell_type": "markdown",
   "metadata": {
    "slideshow": {
     "slide_type": "slide"
    }
   },
   "source": [
    "# Variables Challenge\n",
    "- Create a variable x and assign the value 10 to it\n",
    "- output the value of x\n",
    "- output the letter x\n",
    "- What is the difference?"
   ]
  },
  {
   "cell_type": "markdown",
   "metadata": {
    "slideshow": {
     "slide_type": "fragment"
    }
   },
   "source": [
    "```vb.net\n",
    "MsgBox(x) ' displays content of x\n",
    "MsgBox(\"x\") ' displays the letter x\n",
    "```"
   ]
  },
  {
   "cell_type": "markdown",
   "metadata": {
    "slideshow": {
     "slide_type": "slide"
    }
   },
   "source": [
    "# Control Properties\n",
    "\n",
    "- Remember controls? What about their properties?\n",
    "- Open the HelloWorld windows form project, and add add a Label\n",
    "- Take note of the text and name labels, what are thier values?\n",
    "    - What are they used for?"
   ]
  },
  {
   "cell_type": "markdown",
   "metadata": {
    "slideshow": {
     "slide_type": "slide"
    }
   },
   "source": [
    "# Controls Properties\n",
    "- To access a property of a control, you use dont notation:\n",
    "```vb.net\n",
    "MsgBox(label.Text)\n",
    "```\n",
    "\n",
    "Can you explain what is happening? What is the variable name? What is dot notation? What is the datatype?"
   ]
  },
  {
   "cell_type": "markdown",
   "metadata": {
    "slideshow": {
     "slide_type": "slide"
    }
   },
   "source": [
    "# Assigning To Control Properties\n",
    "- Can you remember what assignment was?\n",
    "- Use it to change the Text property of the label"
   ]
  },
  {
   "cell_type": "markdown",
   "metadata": {
    "slideshow": {
     "slide_type": "fragment"
    }
   },
   "source": [
    "```vb.net\n",
    "label.Text = \"New Value\"\n",
    "```\n",
    "### Notice the value is a String"
   ]
  },
  {
   "cell_type": "markdown",
   "metadata": {
    "slideshow": {
     "slide_type": "slide"
    }
   },
   "source": [
    "# Things To Remember About Control Properties\n",
    "- Look at the properties windows to know them\n",
    "- Access the values and use them like variables using dot notation using: `controlName.propertyName`\n",
    "    - VB, as part of windows forms, creates the variables for these controls, you do not have to do it\n",
    "    - Their variable names will match the name property of the control\n",
    "- Change the values using dot notation and assignment: `controlName.propertyName = newValue`\n",
    "- Remember to always change the name of the control to follow naming convention"
   ]
  },
  {
   "cell_type": "markdown",
   "metadata": {
    "slideshow": {
     "slide_type": "slide"
    }
   },
   "source": [
    "# Control Naming Convention\n",
    "|Control|Short Label|Example|\n",
    "| :---: | :---: | :---|\n",
    "|Label|lbl|lblOutput, lblScore|\n",
    "|TextBox|txt|txtName, txtAge|\n",
    "|Button|btn|btnSubmit, btnAdd **(Notice buttons are usually operations)**|\n",
    "|Radio Button|rdo|rdoGender, rdoMajor|\n",
    "|Check Box|chk| chkIsGraduate, chkIsStudent|\n",
    "|List|lst|lstItems, lstStudents|\n",
    "|ComboBox|cbx| cbxMajors, cbaStudentIds|"
   ]
  },
  {
   "cell_type": "markdown",
   "metadata": {
    "slideshow": {
     "slide_type": "slide"
    }
   },
   "source": [
    "# Label Control\n",
    "- Used to output text within a form\n",
    "- Used to put labels next to items to describe them\n",
    "- Always change the name to follow naming convention\n",
    "  - e.g.: lblName, lblOutput, lblStudentGrade"
   ]
  },
  {
   "cell_type": "markdown",
   "metadata": {
    "slideshow": {
     "slide_type": "slide"
    }
   },
   "source": [
    "# TextBox Control\n",
    "- Use it exactly like a label\n",
    "  - Use the properties name, and label\n",
    "- Has the added benefit of accepting input from the user"
   ]
  },
  {
   "cell_type": "markdown",
   "metadata": {
    "slideshow": {
     "slide_type": "slide"
    }
   },
   "source": [
    "# User Input from TextBox\n",
    "- If you double click the TextBox you will override TextChanged\n",
    "  - This sub gets called everytime a user types a letter\n",
    "- We usually want to perform an action after the user is done with typing. This can be achieved in two methods:"
   ]
  },
  {
   "cell_type": "markdown",
   "metadata": {
    "slideshow": {
     "slide_type": "slide"
    }
   },
   "source": [
    "# Method 1: TextBox Input\n",
    "- Add a button which the user should click to perform the action after he/she is done with text input\n",
    "- This is the simplist method and most intuitive"
   ]
  },
  {
   "cell_type": "markdown",
   "metadata": {
    "slideshow": {
     "slide_type": "slide"
    }
   },
   "source": [
    "# Method 2: TextBox Input\n",
    "- Click once on the TextBox then look for KeyDown even in the properties window\n",
    "- This event is run every time a button is pressed\n",
    "- Simply check if the pressed button is **Enter**\n",
    "- We will get back to this method in the future\n"
   ]
  },
  {
   "cell_type": "markdown",
   "metadata": {
    "slideshow": {
     "slide_type": "slide"
    }
   },
   "source": [
    "# Simple Challenge\n",
    "- Create **ImprovedHelloWorld** windows form project\n",
    "- Project must get the name of the user then gives a greeting with the user name.\n",
    "  - e.g.: Hello mohammad!"
   ]
  },
  {
   "cell_type": "markdown",
   "metadata": {
    "slideshow": {
     "slide_type": "slide"
    }
   },
   "source": [
    "# Constructing Strings\n",
    "- To complete the challenge you must combine 3 strings together:\n",
    "  1. The greeting message before the name: `\"Hello \"`\n",
    "  2. The name from the textbox\n",
    "  3. The final part of the greeting message after the name: `\"!\"`\n",
    "  "
   ]
  },
  {
   "cell_type": "markdown",
   "metadata": {
    "slideshow": {
     "slide_type": "fragment"
    }
   },
   "source": [
    "```vb.net\n",
    "' Assuming that you have an output label called lblOut\n",
    "lblOut.text = \"Hello \" & txtName.Text & \"!\"\n",
    "```"
   ]
  },
  {
   "cell_type": "markdown",
   "metadata": {
    "slideshow": {
     "slide_type": "slide"
    }
   },
   "source": [
    "# What is the & part?\n",
    "- This is known as an operator\n",
    "- They are used to instruct the computer to perform operations on data and variables\n",
    "- The operations can be mathematical, string, logical ..etc\n",
    "- We will discuss operators in detail next week"
   ]
  },
  {
   "cell_type": "markdown",
   "metadata": {
    "slideshow": {
     "slide_type": "slide"
    }
   },
   "source": [
    "# Another Challenge\n",
    "- improve the last project to ask the user for his/her name and major\n",
    "- Display a greeting message for the user in the following format:\n",
    "```\n",
    "Hello Mohammad!\n",
    "Your major is MIS\n",
    "```\n",
    "- Be sure to display the text over two lines"
   ]
  },
  {
   "cell_type": "markdown",
   "metadata": {
    "slideshow": {
     "slide_type": "slide"
    }
   },
   "source": [
    "# Challenge Hint\n",
    "- VB and any other language has special constants to be used to display character that cannot be typed in the keyboard or put in a string\n",
    "- These special characters are:\n",
    "\n",
    "| Character | Description |\n",
    "| :----: | :-------- |\n",
    "|vbNewLine| New line|\n",
    "|vbLf| Line feed|\n",
    "|vbCr| Carriage return|\n",
    "|vbCrLf| Carriage return then line feed |\n",
    "|vbTab| Tab, around 4 spaces |\n",
    "|vbBack| The back character, usually clears one charachter|\n",
    "|vbVerticalTab| vertical tab|"
   ]
  },
  {
   "cell_type": "markdown",
   "metadata": {
    "slideshow": {
     "slide_type": "slide"
    }
   },
   "source": [
    "# Things to think about\n",
    "- How do we represent a space character?\n",
    "- With \" used to represent the start and end of a string, how do we print it?"
   ]
  },
  {
   "cell_type": "markdown",
   "metadata": {
    "slideshow": {
     "slide_type": "slide"
    }
   },
   "source": [
    "# Quick Challenge\n",
    "Solve the last challenge as a console project"
   ]
  }
 ],
 "metadata": {
  "celltoolbar": "Slideshow",
  "kernelspec": {
   "display_name": "Python 3",
   "language": "python",
   "name": "python3"
  },
  "language_info": {
   "codemirror_mode": {
    "name": "ipython",
    "version": 3
   },
   "file_extension": ".py",
   "mimetype": "text/x-python",
   "name": "python",
   "nbconvert_exporter": "python",
   "pygments_lexer": "ipython3",
   "version": "3.5.2"
  }
 },
 "nbformat": 4,
 "nbformat_minor": 2
}
