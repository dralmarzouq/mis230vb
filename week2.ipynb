{
 "cells": [
  {
   "cell_type": "markdown",
   "metadata": {
    "slideshow": {
     "slide_type": "slide"
    }
   },
   "source": [
    "# Development Environment\n",
    "\n",
    "- You can use text editors like notepad to write your programs\n",
    "- Alternatively you can use Integrated Development Environments (IDE) to make your life easier"
   ]
  },
  {
   "cell_type": "markdown",
   "metadata": {
    "slideshow": {
     "slide_type": "slide"
    }
   },
   "source": [
    "# Visual Studio (VS)\n",
    "\n",
    "- We will use visual studio as our IDE\n",
    "- Available for both Mac and PC\n",
    "  - Since we are working on VB, you have to use the PC version on mac\n",
    "     - Use [parallels](https://www.parallels.com) to get it to work\n",
    "- Get Visual Studio Community edition for free [here](https://www.visualstudio.com/thank-you-downloading-visual-studio/?sku=Community&rel=15&page=defaultinstall)"
   ]
  },
  {
   "cell_type": "markdown",
   "metadata": {
    "slideshow": {
     "slide_type": "slide"
    }
   },
   "source": [
    "# Starting Projects in VS\n",
    "\n",
    "- You create programs by creating projects in VS\n",
    "- A Project is just a directory containing the source files and configuration files needed by the IDE\n",
    "![](img/ideproject.png)"
   ]
  },
  {
   "cell_type": "markdown",
   "metadata": {
    "slideshow": {
     "slide_type": "slide"
    }
   },
   "source": [
    "# Project Types\n",
    "- You set the program type by selecting the language, and type of project\n",
    "- Change ***Name*** to set the name of your project\n",
    "- ***Location** is where you can find your project directory\n",
    "  - The project directory will have the same name as the project\n",
    "- You can share your project by simply sharing the directory of the project"
   ]
  },
  {
   "cell_type": "markdown",
   "metadata": {
    "slideshow": {
     "slide_type": "subslide"
    }
   },
   "source": [
    "![](img/ideproject2.png)"
   ]
  },
  {
   "cell_type": "markdown",
   "metadata": {
    "slideshow": {
     "slide_type": "slide"
    }
   },
   "source": [
    "# Types of Projects (Examples)\n",
    "- Console\n",
    "- Windows Forms App (.NET Framework)\n",
    "- ASP.NET Web Application\n",
    "- ... etc"
   ]
  },
  {
   "cell_type": "markdown",
   "metadata": {
    "slideshow": {
     "slide_type": "subslide"
    }
   },
   "source": [
    "# Console\n",
    "- Simplest form of program, computer doesn't do anything unless you instruct it to\n",
    "- Used mostly to perform quick tasks and create server applications\n",
    "- User interaction is not expected\n",
    "- Will perform instructions sequentially\n",
    "- Use this to get quick output from the computer"
   ]
  },
  {
   "cell_type": "markdown",
   "metadata": {
    "slideshow": {
     "slide_type": "subslide"
    }
   },
   "source": [
    "# Windows Forms App (.NET Framework)\n",
    "- A Windows based application the uses GUI for user interaction\n",
    "- Event driven\n",
    "- Making the window, buttons, and controls is handled for you\n",
    "  - You tell the computer what to do if an event occurs\n",
    "  - An event example is a button click or text input"
   ]
  },
  {
   "cell_type": "markdown",
   "metadata": {
    "slideshow": {
     "slide_type": "subslide"
    }
   },
   "source": [
    "# ASP.NET Web Application\n",
    "- A browser based application\n",
    "- Expected to run on a web server\n",
    "- Client/Server Request/Response model\n",
    "- Not covered this course"
   ]
  },
  {
   "cell_type": "markdown",
   "metadata": {
    "slideshow": {
     "slide_type": "subslide"
    }
   },
   "source": [
    "## Keep in mind that programs come in different forms!"
   ]
  },
  {
   "cell_type": "markdown",
   "metadata": {
    "slideshow": {
     "slide_type": "slide"
    }
   },
   "source": [
    "# Our First Windows Forms Program\n",
    "- Create a ***Windows Forms*** project named \"HelloWorld\"\n",
    "- Start the program by clicking the ***Start*** button.\n",
    "![](img/start.png)"
   ]
  },
  {
   "cell_type": "markdown",
   "metadata": {
    "slideshow": {
     "slide_type": "subslide"
    }
   },
   "source": [
    "## Can you explain what is happening?"
   ]
  },
  {
   "cell_type": "markdown",
   "metadata": {
    "slideshow": {
     "slide_type": "slide"
    }
   },
   "source": [
    "# Our Second Program\n",
    "- Create a **Console** project and name it **HelloConsole**\n",
    "- What is different about this project?\n",
    "- Start the project and see what happens.\n",
    "  - Can you explain what is going on?"
   ]
  },
  {
   "cell_type": "markdown",
   "metadata": {
    "slideshow": {
     "slide_type": "subslide"
    }
   },
   "source": [
    "# The Console Program\n",
    "\n",
    "```VB.net\n",
    "Module Module1\n",
    "\n",
    "    Sub Main()\n",
    "\n",
    "    End Sub\n",
    "\n",
    "End Module\n",
    "\n",
    "```"
   ]
  },
  {
   "cell_type": "markdown",
   "metadata": {
    "slideshow": {
     "slide_type": "subslide"
    }
   },
   "source": [
    "# The Console Program Cont.\n",
    "- The program does nothing!\n",
    "- **Main** is the starting point for the program\n",
    "  - All instruction you write inside **Main** and before **End Sub** is executed\n",
    "  - Nothing else is done by the computer\n",
    "- Let's tell the computer to type something for us"
   ]
  },
  {
   "cell_type": "markdown",
   "metadata": {
    "slideshow": {
     "slide_type": "subslide"
    }
   },
   "source": [
    "# Updated Console Program\n",
    "\n",
    "```VB.net\n",
    "Module Module1\n",
    "\n",
    "    Sub Main()\n",
    "         Console.Out.WriteLine(\"Hello World!\")\n",
    "    End Sub\n",
    "\n",
    "End Module\n",
    "\n",
    "```\n",
    "Run it and explain what happend"
   ]
  },
  {
   "cell_type": "markdown",
   "metadata": {
    "slideshow": {
     "slide_type": "subslide"
    }
   },
   "source": [
    "# Updated Console Program\n",
    "\n",
    "```VB.net\n",
    "Module Module1\n",
    "\n",
    "    Sub Main()\n",
    "         Console.Out.WriteLine(\"Hello World!\")\n",
    "         Console.In.ReadLine()\n",
    "    End Sub\n",
    "\n",
    "End Module\n",
    "\n",
    "```\n",
    "Now What is happening?"
   ]
  },
  {
   "cell_type": "markdown",
   "metadata": {
    "slideshow": {
     "slide_type": "subslide"
    }
   },
   "source": [
    "# The Statements\n",
    "## Console.Out.WriteLine\n",
    "- This statement is used to output text\n",
    "- You put the text inside the parantheses and the computer will display it"
   ]
  },
  {
   "cell_type": "markdown",
   "metadata": {
    "slideshow": {
     "slide_type": "subslide"
    }
   },
   "source": [
    "# The Statements\n",
    "## Console.In.ReadLine\n",
    "- This is an input statement\n",
    "- It tells the computer to wait for the user to type some text on the keyboard\n",
    "- Then what will it do with the text?"
   ]
  },
  {
   "cell_type": "markdown",
   "metadata": {
    "slideshow": {
     "slide_type": "subslide"
    }
   },
   "source": [
    "# Challenge\n",
    "- Try to display what the user types in the keyboard as output\n",
    "- Can you add a message to let the user know what he/she needs to do?"
   ]
  },
  {
   "cell_type": "markdown",
   "metadata": {
    "slideshow": {
     "slide_type": "slide"
    }
   },
   "source": [
    "# Variables\n",
    "- When getting input, we need to hold it somewhere to be able to use it\n",
    "- This is where variables come in\n",
    "- A Variable is like a bucket that holds data/input so we can use it elsewhere in the program\n",
    "- Any input that is not placed in a variable is lost!"
   ]
  },
  {
   "cell_type": "markdown",
   "metadata": {
    "slideshow": {
     "slide_type": "subslide"
    }
   },
   "source": [
    "# Using Variables in VB\n",
    "1. You have to declare it first\n",
    "2. You assign the input/data/result to the variable"
   ]
  },
  {
   "cell_type": "markdown",
   "metadata": {
    "slideshow": {
     "slide_type": "subslide"
    }
   },
   "source": [
    "# What is a Declaration?\n",
    "```vb.net\n",
    "Dim myText as String\n",
    "```\n",
    "- **Dim** stands for **declare in memory**\n",
    "- Tells the computer to keep some space in memory to store data in of a specific type (called **data type**), what is it here?\n",
    "- Gives it a name so we can refer to it, what is it here?\n",
    "- Where do you think we should place this statement in the program?"
   ]
  },
  {
   "cell_type": "markdown",
   "metadata": {
    "slideshow": {
     "slide_type": "subslide"
    }
   },
   "source": [
    "# What is an Assignment?\n",
    "```vb.net\n",
    "myText = Console.In.ReadLine()\n",
    "```\n",
    "- Store whatever is on the right of the **=** operator, in the variable on the left\n",
    "- Where should we place this statement?\n",
    "- What do you think is the type of data returned by **ReadLine**?\n",
    "  - Data types must match or can be converted."
   ]
  },
  {
   "cell_type": "markdown",
   "metadata": {
    "slideshow": {
     "slide_type": "subslide"
    }
   },
   "source": [
    "# The Updated Program\n",
    "- No need to show the sub main part:\n",
    "```vb.net\n",
    "Dim myText As String\n",
    "Console.Out.WriteLine(\"Please type message:\")\n",
    "myText = Console.In.ReadLine()\n",
    "Console.Out.WriteLine(myText)\n",
    "Console.In.ReadLine()\n",
    "```\n",
    "    "
   ]
  },
  {
   "cell_type": "markdown",
   "metadata": {
    "slideshow": {
     "slide_type": "slide"
    }
   },
   "source": [
    "# Review of Concepts\n",
    "- Console vs Windows Forms vs Web apps\n",
    "- Project creation and execution\n",
    "- Variables and data types\n",
    "- Declaration and assignment"
   ]
  },
  {
   "cell_type": "markdown",
   "metadata": {
    "slideshow": {
     "slide_type": "slide"
    }
   },
   "source": [
    "# Hello World in Windows Forms\n",
    "- Open your old windows form project, or create a new one named **Hello World**\n",
    "- Look at form1\n",
    "  - This is known as the design view\n",
    "![](img/designview.png)"
   ]
  },
  {
   "cell_type": "markdown",
   "metadata": {
    "slideshow": {
     "slide_type": "subslide"
    }
   },
   "source": [
    "# Hello World in Windows Forms\n",
    "- Double click anywhere on Form1\n",
    "- This will open the coding view of the project\n",
    "![](img/codeview.png)"
   ]
  },
  {
   "cell_type": "markdown",
   "metadata": {
    "slideshow": {
     "slide_type": "subslide"
    }
   },
   "source": [
    "# What is Form1_load?\n",
    "- This is known as an event sub\n",
    "- Remember **Main()** from console projects?\n",
    "  - Form1_load is similar to it\n",
    "  - It is executed only when Form1 is loaded\n",
    "- This is known as an event sub and it is part of event based programming"
   ]
  },
  {
   "cell_type": "markdown",
   "metadata": {
    "slideshow": {
     "slide_type": "subslide"
    }
   },
   "source": [
    "# What is Form1_load?\n",
    "- In event based programming you do not execute the execution of the application\n",
    "- The windows, buttons, forms, and all other GUI objects are already built for you\n",
    "- Instead, as a programmer, you write subs that are executed when the user does specific actions"
   ]
  },
  {
   "cell_type": "markdown",
   "metadata": {
    "slideshow": {
     "slide_type": "subslide"
    }
   },
   "source": [
    "# What is Form1_load?\n",
    "- For example, in Form1_load, the user starts the application, and Form1 is loaded\n",
    "- The event sub always consists of two parts, the name of the object/control, and the action that the user must do for the program to execute this code"
   ]
  },
  {
   "cell_type": "markdown",
   "metadata": {
    "slideshow": {
     "slide_type": "subslide"
    }
   },
   "source": [
    "# Displaying Messages\n",
    "- MSGBox can be used to display a message notification for the user in a windows form application\n",
    "- Let's add a message to display \"hello world\" when form1 is loaded\n",
    "- Double click on Form1 in design view, then inside the form1_load sub, type:\n",
    "```vb.net\n",
    " MsgBox(\"Hello World!\")\n",
    "```"
   ]
  },
  {
   "cell_type": "markdown",
   "metadata": {
    "slideshow": {
     "slide_type": "subslide"
    }
   },
   "source": [
    "# Hello World in Windows forms\n",
    "Your code should look like this:\n",
    "```vb.net\n",
    "Public Class Form1\n",
    "    Private Sub Form1_Load(sender As Object, e As EventArgs) Handles MyBase.Load\n",
    "        MsgBox(\"Hello World!\")\n",
    "    End Sub\n",
    "End Class\n",
    "\n",
    "```\n",
    "## Now start your program!"
   ]
  },
  {
   "cell_type": "markdown",
   "metadata": {
    "slideshow": {
     "slide_type": "subslide"
    }
   },
   "source": [
    "# The running program\n",
    "- Did you notice what MSGBox did?\n",
    "- How is hello world different in windows forms compared to console"
   ]
  },
  {
   "cell_type": "markdown",
   "metadata": {
    "slideshow": {
     "slide_type": "slide"
    }
   },
   "source": [
    "# What Are Controls?\n",
    "- they are all the graphical components that you can use to build an application\n",
    "- Select Toolbox from View Menu while in **design view**\n",
    "![](img/toolbox.png)"
   ]
  },
  {
   "cell_type": "markdown",
   "metadata": {
    "slideshow": {
     "slide_type": "subslide"
    }
   },
   "source": [
    "# The Controls\n",
    "- You can place these in forms to design the application\n",
    "![](img/toolbox2.png)"
   ]
  },
  {
   "cell_type": "markdown",
   "metadata": {
    "slideshow": {
     "slide_type": "subslide"
    }
   },
   "source": [
    "# The Button Control\n",
    "- Let's add a button to the project\n",
    "- Go to the design view\n",
    "- Drag a button from the toolbox and place the button anywhere on Form1\n",
    "- Double click on the button in the design view"
   ]
  },
  {
   "cell_type": "markdown",
   "metadata": {
    "slideshow": {
     "slide_type": "subslide"
    }
   },
   "source": [
    "# Your Code Now\n",
    "```vb.net\n",
    "Public Class Form1\n",
    "    Private Sub Form1_Load(sender As Object, e As EventArgs) Handles MyBase.Load\n",
    "        MsgBox(\"Hello World!\")\n",
    "    End Sub\n",
    "\n",
    "    Private Sub Button1_Click(sender As Object, e As EventArgs) Handles Button1.Click\n",
    "\n",
    "    End Sub\n",
    "End Class\n",
    "```\n",
    "### What Changed?"
   ]
  },
  {
   "cell_type": "markdown",
   "metadata": {
    "slideshow": {
     "slide_type": "subslide"
    }
   },
   "source": [
    "# Button1_click\n",
    "- This is the button1 click event sub\n",
    "- When do you think this is executed?\n",
    "- Add a statement to display a msgbox with the message:\n",
    "\n",
    "`The Button Has Been Clicked!`"
   ]
  },
  {
   "cell_type": "markdown",
   "metadata": {
    "slideshow": {
     "slide_type": "subslide"
    }
   },
   "source": [
    "# The Solution\n",
    "```vb.net\n",
    "Public Class Form1\n",
    "    Private Sub Form1_Load(sender As Object, e As EventArgs) Handles MyBase.Load\n",
    "        MsgBox(\"Hello World!\")\n",
    "    End Sub\n",
    "\n",
    "    Private Sub Button1_Click(sender As Object, e As EventArgs) Handles Button1.Click\n",
    "        MsgBox(\"The Button Has Been Clicked!\")\n",
    "    End Sub\n",
    "End Class\n",
    "```"
   ]
  },
  {
   "cell_type": "markdown",
   "metadata": {
    "slideshow": {
     "slide_type": "subslide"
    }
   },
   "source": [
    "# Moving Forward\n",
    "- I will not display complete code from the code view\n",
    "- Instead, I will do the following:\n",
    "```vb.net\n",
    "Private Sub Button1_Click(sender As Object, e As EventArgs) Handles Button1.Click\n",
    "        MsgBox(\"The Button Has Been Clicked!\")\n",
    "End Sub\n",
    "```\n",
    "\n",
    "- Do you think there is any difference if Button1_Click came before Form1_load? Try moving them"
   ]
  },
  {
   "cell_type": "markdown",
   "metadata": {
    "slideshow": {
     "slide_type": "slide"
    }
   },
   "source": [
    "# Challenge\n",
    "- Is the MSGBox an Input or Output control?\n",
    "- Is the Button an Input or Output control?\n",
    "  - When do we use it?\n",
    "- Try adding 2 more buttons\n",
    "- For each button display a different message"
   ]
  }
 ],
 "metadata": {
  "celltoolbar": "Slideshow",
  "kernelspec": {
   "display_name": "Python 3",
   "language": "python",
   "name": "python3"
  },
  "language_info": {
   "codemirror_mode": {
    "name": "ipython",
    "version": 3
   },
   "file_extension": ".py",
   "mimetype": "text/x-python",
   "name": "python",
   "nbconvert_exporter": "python",
   "pygments_lexer": "ipython3",
   "version": "3.5.2"
  }
 },
 "nbformat": 4,
 "nbformat_minor": 2
}
