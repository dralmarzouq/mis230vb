{
 "cells": [
  {
   "cell_type": "markdown",
   "metadata": {
    "slideshow": {
     "slide_type": "slide"
    }
   },
   "source": [
    "    Computers are incredibly fast, accurate, and stupid.\n",
    "    Human beings are incredibly slow, inaccurate, and brilliant.\n",
    "    Together they are powerful beyond imagination. \n",
    "    \n",
    "    - Albert Einstein\n"
   ]
  },
  {
   "cell_type": "markdown",
   "metadata": {
    "slideshow": {
     "slide_type": "slide"
    }
   },
   "source": [
    "# What are computers?\n",
    "\n",
    "A machine that stores and manipulates information under the control of a **changeable program**"
   ]
  },
  {
   "cell_type": "markdown",
   "metadata": {
    "slideshow": {
     "slide_type": "slide"
    }
   },
   "source": [
    "# Where can computers be found?\n",
    "\n",
    "- Calculators\n",
    "- Gas pumps\n",
    "- Cashiers\n",
    "- Cars\n",
    "- TVs and Electronics\n",
    "- ...etc."
   ]
  },
  {
   "cell_type": "markdown",
   "metadata": {
    "slideshow": {
     "slide_type": "slide"
    }
   },
   "source": [
    "# Computer System\n",
    "\n",
    "![](img/computer_system.png)"
   ]
  },
  {
   "cell_type": "markdown",
   "metadata": {
    "slideshow": {
     "slide_type": "slide"
    }
   },
   "source": [
    "# What Is a Program?\n",
    "\n",
    "- Detailed step-by-step instructions telling a computer **exactly** what to do.\n",
    "- A Computer is just a machine to carry out execution of programs.\n"
   ]
  },
  {
   "cell_type": "markdown",
   "metadata": {
    "slideshow": {
     "slide_type": "slide"
    }
   },
   "source": [
    "# Computers as Universal Machines\n",
    "- All computers can be instructed to perform what other computers do:\n",
    "  - Depends on What hardware is available to control\n",
    "  - They might also differ in how fast they execute it\n"
   ]
  },
  {
   "cell_type": "markdown",
   "metadata": {
    "slideshow": {
     "slide_type": "slide"
    }
   },
   "source": [
    "# Program Execution\n",
    "![](img/computer_system2.png)"
   ]
  },
  {
   "cell_type": "markdown",
   "metadata": {
    "slideshow": {
     "slide_type": "slide"
    }
   },
   "source": [
    "# Programming Languages\n",
    "- The means in which humans can write instructions to computers\n",
    "  - This is the human readable part\n",
    "  - Why do we need it? why not use english?\n",
    "- Compilers and interpreters will convert it to machine\n",
    "  - This is the machine readable part\n",
    "- Programs can be distributed in \n",
    "  - Human readable form, called source code\n",
    "  - Machine readable form, called binary"
   ]
  },
  {
   "cell_type": "markdown",
   "metadata": {
    "slideshow": {
     "slide_type": "slide"
    }
   },
   "source": [
    "# Programming Languages Cont.\n",
    "- There are many available:\n",
    "  - VB/C#/F#\n",
    "  - C/C++\n",
    "  - Python/Ruby/PHP/Perl/Javascript\n",
    "  - Java\n",
    "  - Swift\n",
    "  - ...etc"
   ]
  },
  {
   "cell_type": "markdown",
   "metadata": {
    "slideshow": {
     "slide_type": "slide"
    }
   },
   "source": [
    "# Programming Languages Cont.\n",
    "- All can perform the same tasks\n",
    "- They differ in:\n",
    "  - Syntax: Vocabulary used to construct statements\n",
    "  - Symmatics: The meaning of the statements"
   ]
  },
  {
   "cell_type": "markdown",
   "metadata": {
    "slideshow": {
     "slide_type": "slide"
    }
   },
   "source": [
    "# Program Structure\n",
    "- Programs consist of ***statements and data***\n",
    "- We write statements to perform tasks that handle and produce data\n",
    "- The statements are executed sequentially\n",
    "  - Most likely top to bottom, left to right\n",
    "- A program consists of a single or many statements\n",
    "- To execute a program\n",
    "  - Must be fed to an interpreter to execute\n",
    "  - Compiled to binary then executed"
   ]
  },
  {
   "cell_type": "markdown",
   "metadata": {
    "slideshow": {
     "slide_type": "slide"
    }
   },
   "source": [
    "# Example Program in VB\n",
    "\n",
    "```VB.net\n",
    "' program in VB\n",
    "Dim msg as String = String.format(\"Hello {0}! , txtBox.text)\n",
    "MsgBox(msg)\n",
    "```\n",
    "\n",
    "```Python\n",
    "# Program in Python\n",
    "name = readline(\"What is your name?\")\n",
    "print(\"Hello {}!\".format(name))\n",
    "```"
   ]
  },
  {
   "cell_type": "markdown",
   "metadata": {
    "slideshow": {
     "slide_type": "slide"
    }
   },
   "source": [
    "# How to Perform Tasks\n",
    "- You need to be able to describe the steps of a program in plain human language\n",
    "- These steps must be detailed and accurate\n",
    "- The steps are known as an algorithm (خوارزمية)\n",
    "- Always spend time planning your program and thinking about the steps before writing it\n"
   ]
  },
  {
   "cell_type": "markdown",
   "metadata": {
    "slideshow": {
     "slide_type": "slide"
    }
   },
   "source": [
    "# Program Errors (Also Known As Bugs)\n",
    "- Sometimes the program functions, but the steps we selected are incorrect\n",
    "  - This is known as a symmantic error\n",
    "- Sometimes we forget to instruct the computer to handle special cases of data or input and it fails to deal with it\n",
    "  - This is known as a logical error\n",
    "- Sometimes we do not write our statements correctly, the way the computer would understand them\n",
    "  - This is known as a syntax error "
   ]
  }
 ],
 "metadata": {
  "celltoolbar": "Slideshow",
  "kernelspec": {
   "display_name": "Python 3",
   "language": "python",
   "name": "python3"
  },
  "language_info": {
   "codemirror_mode": {
    "name": "ipython",
    "version": 3
   },
   "file_extension": ".py",
   "mimetype": "text/x-python",
   "name": "python",
   "nbconvert_exporter": "python",
   "pygments_lexer": "ipython3",
   "version": "3.5.2"
  }
 },
 "nbformat": 4,
 "nbformat_minor": 2
}
