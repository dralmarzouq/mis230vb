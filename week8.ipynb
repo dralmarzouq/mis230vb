{
 "cells": [
  {
   "cell_type": "markdown",
   "metadata": {
    "slideshow": {
     "slide_type": "slide"
    }
   },
   "source": [
    "# Functions, Subroutines, and Methods\n",
    "- Way to group statements together and run them by calling the name of the function or subroutine\n",
    "- In VB, functions return values, subroutines do not\n",
    "    - Functions can be used in mathematical expressions as they are replaced by the value they return\n",
    "- Method is a name for subroutines and functions in OOP"
   ]
  },
  {
   "cell_type": "markdown",
   "metadata": {
    "slideshow": {
     "slide_type": "slide"
    }
   },
   "source": [
    "# Creating a Subroutine\n",
    "```vb.net\n",
    "Sub SubName() \n",
    "    MSGBox(\"You called SubName\")\n",
    "End Sub\n",
    "```"
   ]
  },
  {
   "cell_type": "markdown",
   "metadata": {
    "slideshow": {
     "slide_type": "slide"
    }
   },
   "source": [
    "# Creating a Function\n",
    "```vb.net\n",
    "Sub FuncName() As Integer \n",
    "    MSGBox(\"You called FuncName\")\n",
    "    Return 5  'Can any value, variable, or expresstion that \n",
    "              'is an integer\n",
    "End Sub\n",
    "```"
   ]
  },
  {
   "cell_type": "markdown",
   "metadata": {
    "slideshow": {
     "slide_type": "slide"
    }
   },
   "source": [
    "# Using Functions/Subroutines\n",
    "- Just call the name of the Func/Sub with () to run it\n",
    "```vb.net\n",
    "SubName() 'will execute SubName\n",
    "MSGBox(\"The result from FuncName is \"& FuncName()) 'doesnt work\n",
    "                                                   'with sub\n",
    "```"
   ]
  },
  {
   "cell_type": "markdown",
   "metadata": {
    "slideshow": {
     "slide_type": "slide"
    }
   },
   "source": [
    "# Parameters/Arguments\n",
    "- Way to pass values/variables to the function/sub\n",
    "    - You include them inside the parantheses ()\n",
    "- They are just variables\n",
    "- Allows us to perform the actions in the Func/Sub on different values, variables, controls ..etc\n",
    "- Way that different parts of the program talk to one another and pass data\n",
    "    - e.g: windows sending information to your program"
   ]
  },
  {
   "cell_type": "markdown",
   "metadata": {
    "slideshow": {
     "slide_type": "slide"
    }
   },
   "source": [
    "# Parameter Example\n",
    "```vb.net\n",
    "Function Add(x As Integer, y As Integer) As Integer\n",
    "    return x+y\n",
    "End If\n",
    "\n",
    "' to use it\n",
    "MsgBox(\"result is: \" & Add(5,6))\n",
    "```"
   ]
  },
  {
   "cell_type": "markdown",
   "metadata": {
    "slideshow": {
     "slide_type": "slide"
    }
   },
   "source": [
    "# Example: Validation of TextBoxes\n",
    "```vb.net\n",
    "Sub ValidateTextbox1()\n",
    "    if TextBox1.text = \"\" Then\n",
    "        MsgBox(\"Textbox is Empty\")\n",
    "    End If\n",
    "End Sub\n",
    "```"
   ]
  },
  {
   "cell_type": "markdown",
   "metadata": {
    "slideshow": {
     "slide_type": "slide"
    }
   },
   "source": [
    "# Problem with ValidateTextbox1\n",
    "```vb.net\n",
    "ValidateTextbox1()\n",
    "' The next statement should run only if input is valid\n",
    "MsgBox(\"The Valid Input is:\" & TextBox1.Text)\n",
    "' Will it run?\n",
    "```"
   ]
  },
  {
   "cell_type": "markdown",
   "metadata": {
    "slideshow": {
     "slide_type": "slide"
    }
   },
   "source": [
    "# Problem with ValidateTextbox1\n",
    "- No way to prevent display of MsgBox if input is invalid\n",
    "- Works only with Textbox1"
   ]
  },
  {
   "cell_type": "markdown",
   "metadata": {
    "slideshow": {
     "slide_type": "slide"
    }
   },
   "source": [
    "# Use Function To Fix Validation\n",
    "```vb.net\n",
    "Function ValidateTextbox2() As Boolean\n",
    "    if TextBox1.text = \"\" Then\n",
    "        MsgBox(\"Textbox is Empty\")\n",
    "        Return False ' If there is a problem return False\n",
    "    End If\n",
    "    Return True ' Return True if everything is OK!\n",
    "End Sub\n",
    "```\n"
   ]
  },
  {
   "cell_type": "markdown",
   "metadata": {
    "slideshow": {
     "slide_type": "slide"
    }
   },
   "source": [
    "# Use Function To Fix Validation\n",
    "\n",
    "```vb.net\n",
    "If ValidateTextbox2() Then\n",
    "    ' Now it will only run if ValidateTextbox2() return True\n",
    "    MsgBox(\"The Valid Input is:\" & TextBox1.Text)\n",
    "End If\n",
    "\n",
    "```"
   ]
  },
  {
   "cell_type": "markdown",
   "metadata": {
    "slideshow": {
     "slide_type": "slide"
    }
   },
   "source": [
    "# Problem with ValidateTextbox2\n",
    "- Fixed one problem\n",
    "- Still, works only with TextBox1"
   ]
  },
  {
   "cell_type": "markdown",
   "metadata": {
    "slideshow": {
     "slide_type": "slide"
    }
   },
   "source": [
    "# Fixing ValidateTextbox2 With Parameters\n",
    "```vb.net\n",
    "Function ValidateTextbox3(txtBox As TextBox) As Boolean\n",
    "    if txtBox.text = \"\" Then\n",
    "        MsgBox(\"Textbox is Empty\")\n",
    "        Return False ' If there is a problem return False\n",
    "    End If\n",
    "    Return True ' Return True if everything is OK!\n",
    "End Sub\n",
    "```"
   ]
  },
  {
   "cell_type": "markdown",
   "metadata": {
    "slideshow": {
     "slide_type": "slide"
    }
   },
   "source": [
    "# Using Function with Different TextBoxes\n",
    "\n",
    "```vb.net\n",
    "If ValidateTextbox3(TextBox1) Then\n",
    "    MsgBox(\"The Valid Input is:\" & TextBox1.Text)\n",
    "End If\n",
    "\n",
    "If ValidateTextbox3(TextBox2) Then\n",
    "    MsgBox(\"The Valid Input is:\" & TextBox2.Text)\n",
    "End If\n",
    "\n",
    "```"
   ]
  },
  {
   "cell_type": "markdown",
   "metadata": {
    "slideshow": {
     "slide_type": "slide"
    }
   },
   "source": [
    "# Other Ways To Validate Data\n",
    "- You can also validate the content of the control instead of the control like *isNumeric* function\n",
    "```vb.net\n",
    "Function isValid(text As String) As Boolean\n",
    "    if text = \"\" Then\n",
    "        Return False ' If there is a problem return False\n",
    "    elseif Not isNumeric(text) Then\n",
    "        Return False\n",
    "    else\n",
    "        Return True ' Return True if everything is OK!\n",
    "    end if\n",
    "End Sub\n",
    "```"
   ]
  },
  {
   "cell_type": "markdown",
   "metadata": {
    "slideshow": {
     "slide_type": "slide"
    }
   },
   "source": [
    "# Variable scope\n",
    "- The parts of a program in which a variable you defined can be used\n",
    "- Can be local or global"
   ]
  },
  {
   "cell_type": "markdown",
   "metadata": {
    "slideshow": {
     "slide_type": "slide"
    }
   },
   "source": [
    "# Local Scope\n",
    "- Variable exists and can be used in specific Func/Sub\n",
    "- Variables defined inside a Func/Sub have local scope\n",
    "- Parameters have local scope\n",
    "    - What does this mean?\n",
    "- What if we need a value inside a Func/Sub to reach another Func/Sub?"
   ]
  },
  {
   "cell_type": "markdown",
   "metadata": {
    "slideshow": {
     "slide_type": "slide"
    }
   },
   "source": [
    "# Global Scope\n",
    "- Variables exists and can be used in all Func/Sub in the file\n",
    "- Variable defined inside Class/Module have global scope\n",
    "    - The variable is defined outside any func/sub\n",
    "- Controls you create with the designer have global scope, why?"
   ]
  },
  {
   "cell_type": "markdown",
   "metadata": {
    "slideshow": {
     "slide_type": "slide"
    }
   },
   "source": [
    "# Challenge\n",
    "- Create an application that implements the following requirements:\n",
    "    - User can calculate areas of: Square, Rectangle, Circle\n",
    "    - Application will validate input of user and check it for:\n",
    "        - missing values, numeric values, and correct values\n",
    "    - Validation must be performed using a single function\n",
    "    - Area calculations must be done using functions"
   ]
  },
  {
   "cell_type": "markdown",
   "metadata": {
    "slideshow": {
     "slide_type": "slide"
    }
   },
   "source": [
    "# Challenge\n",
    "- Create currency conversion calculator\n",
    "- Gets amount from user\n",
    "- Converts amount to USD, KWD, SAR\n",
    "- Use functions to validate input, and calculate converted amount"
   ]
  }
 ],
 "metadata": {
  "celltoolbar": "Slideshow",
  "kernelspec": {
   "display_name": "Python 3",
   "language": "python",
   "name": "python3"
  },
  "language_info": {
   "codemirror_mode": {
    "name": "ipython",
    "version": 3
   },
   "file_extension": ".py",
   "mimetype": "text/x-python",
   "name": "python",
   "nbconvert_exporter": "python",
   "pygments_lexer": "ipython3",
   "version": "3.6.0"
  }
 },
 "nbformat": 4,
 "nbformat_minor": 2
}
